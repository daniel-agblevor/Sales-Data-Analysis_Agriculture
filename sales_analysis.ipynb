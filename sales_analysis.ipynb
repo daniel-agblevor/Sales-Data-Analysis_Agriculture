{
 "cells": [
  {
   "cell_type": "markdown",
   "id": "7da47f5a-c5e1-4074-8c77-c0e9de517dd8",
   "metadata": {},
   "source": [
    "# **Sales Data Analysis**\n",
    "---\n",
    "\n",
    "## Overview\n",
    "This notebook analyzes agricultural product sales data from Farmerline for the year 2023. The analysis explores sales patterns, customer behavior, and product performance across different regions in Ghana.\n",
    "\n",
    "### Objectives:\n",
    "- Clean and prepare the sales data for analysis\n",
    "- Identify sales trends across time periods (days, months)\n",
    "- Analyze product performance and regional distribution\n",
    "- Examine customer repurchase behavior\n",
    "- Visualize key insights through charts and graphs\n",
    "\n",
    "### Data Description:\n",
    "The dataset contains information about agricultural product sales including:\n",
    "- Products: Seeds (maize, soyabean, tomato), Fertilizers (NPK, Ammonia Sulphate), and Weedicide (Asaase Wura)\n",
    "- Sales metrics: Quantity, Unit Price, Order Date\n",
    "- Customer information: Region (Ashanti, Volta, Eastern, Western, Northern)\n",
    "- Customer retention: Whether customers purchased again (Yes/No)\n",
    "---"
   ]
  },
  {
   "cell_type": "markdown",
   "id": "be5ca10c-6f8f-463f-a916-5efb67d44e1c",
   "metadata": {},
   "source": [
    "## Setup and Data Loading\n",
    "\n",
    "First, we'll import the necessary libraries for data manipulation, visualization, and analysis. We'll use:\n",
    "- pandas for data manipulation\n",
    "- matplotlib and seaborn for visualization\n",
    "- sklearn for potential machine learning applications"
   ]
  },
  {
   "cell_type": "code",
   "execution_count": 1,
   "id": "3c87005f-0618-4e2d-b22d-dd07a6519cef",
   "metadata": {},
   "outputs": [],
   "source": [
    "# Data loading and manipulation\n",
    "import pandas as pd\n",
    "\n",
    "# Data visualization\n",
    "import matplotlib.pyplot as plt\n",
    "import seaborn as sns\n",
    "sns.set()\n",
    "\n",
    "# ML modelling\n",
    "from sklearn.model_selection import train_test_split\n",
    "from sklearn.linear_model import LogisticRegression\n",
    "from sklearn.metrics import precision_score, accuracy_score, confusion_matrix, ConfusionMatrixDisplay\n",
    "from sklearn.preprocessing import StandardScaler\n",
    "\n",
    "# Filter warnings\n",
    "import warnings\n",
    "warnings.filterwarnings('ignore')"
   ]
  },
  {
   "cell_type": "code",
   "execution_count": 2,
   "id": "673fa3cc-fd45-43ea-98a8-4e506d3f1749",
   "metadata": {},
   "outputs": [],
   "source": [
    "# load the dataset\n",
    "df = pd.read_csv('data/raw_data.csv')"
   ]
  },
  {
   "cell_type": "markdown",
   "id": "2a70e1c4-2d94-40ec-a7cd-2f23ff7db642",
   "metadata": {},
   "source": [
    "## Data Exploration and Understanding\n",
    "\n",
    "Let's first understand the structure and content of our dataset. We'll examine:\n",
    "- The first few rows to understand the data format\n",
    "- The shape of the dataset (rows and columns)\n",
    "- Column names and data types\n",
    "- Presence of duplicates and missing values"
   ]
  },
  {
   "cell_type": "markdown",
   "id": "a2ff04fb-54a8-4ec1-94f4-f12da91d7c53",
   "metadata": {},
   "source": [
    "### The first few rows to understand the data format"
   ]
  },
  {
   "cell_type": "code",
   "execution_count": 3,
   "id": "ca11c9fe-c856-467e-8b2f-e2847d86c3cd",
   "metadata": {},
   "outputs": [
    {
     "data": {
      "text/html": [
       "<div>\n",
       "<style scoped>\n",
       "    .dataframe tbody tr th:only-of-type {\n",
       "        vertical-align: middle;\n",
       "    }\n",
       "\n",
       "    .dataframe tbody tr th {\n",
       "        vertical-align: top;\n",
       "    }\n",
       "\n",
       "    .dataframe thead th {\n",
       "        text-align: right;\n",
       "    }\n",
       "</style>\n",
       "<table border=\"1\" class=\"dataframe\">\n",
       "  <thead>\n",
       "    <tr style=\"text-align: right;\">\n",
       "      <th></th>\n",
       "      <th>OrderID</th>\n",
       "      <th>Product</th>\n",
       "      <th>Category</th>\n",
       "      <th>Quantity</th>\n",
       "      <th>UnitPrice (GHS)</th>\n",
       "      <th>OrderDate</th>\n",
       "      <th>CustomerRegion</th>\n",
       "      <th>PurchasedAgain</th>\n",
       "    </tr>\n",
       "  </thead>\n",
       "  <tbody>\n",
       "    <tr>\n",
       "      <th>0</th>\n",
       "      <td>ORD0001</td>\n",
       "      <td>Asaase Wura</td>\n",
       "      <td>Weedicide</td>\n",
       "      <td>39.0</td>\n",
       "      <td>81.69</td>\n",
       "      <td>2023-09-28</td>\n",
       "      <td>Volta</td>\n",
       "      <td>No</td>\n",
       "    </tr>\n",
       "    <tr>\n",
       "      <th>1</th>\n",
       "      <td>ORD0002</td>\n",
       "      <td>NPK</td>\n",
       "      <td>Fertilizer</td>\n",
       "      <td>43.0</td>\n",
       "      <td>80.17</td>\n",
       "      <td>2023-01-21</td>\n",
       "      <td>Western</td>\n",
       "      <td>No</td>\n",
       "    </tr>\n",
       "    <tr>\n",
       "      <th>2</th>\n",
       "      <td>ORD0003</td>\n",
       "      <td>Asaase Wura</td>\n",
       "      <td>Weedicide</td>\n",
       "      <td>39.0</td>\n",
       "      <td>50.12</td>\n",
       "      <td>2023-08-03</td>\n",
       "      <td>Ashanti</td>\n",
       "      <td>No</td>\n",
       "    </tr>\n",
       "    <tr>\n",
       "      <th>3</th>\n",
       "      <td>ORD0004</td>\n",
       "      <td>Maize</td>\n",
       "      <td>Seed</td>\n",
       "      <td>11.0</td>\n",
       "      <td>51.33</td>\n",
       "      <td>2023-04-10</td>\n",
       "      <td>Ashanti region</td>\n",
       "      <td>Yes</td>\n",
       "    </tr>\n",
       "    <tr>\n",
       "      <th>4</th>\n",
       "      <td>ORD0005</td>\n",
       "      <td>NPK</td>\n",
       "      <td>Fertilizer</td>\n",
       "      <td>40.0</td>\n",
       "      <td>73.73</td>\n",
       "      <td>2023-05-30</td>\n",
       "      <td>Eastern</td>\n",
       "      <td>Yes</td>\n",
       "    </tr>\n",
       "  </tbody>\n",
       "</table>\n",
       "</div>"
      ],
      "text/plain": [
       "   OrderID      Product    Category  Quantity  UnitPrice (GHS)   OrderDate  \\\n",
       "0  ORD0001  Asaase Wura   Weedicide      39.0            81.69  2023-09-28   \n",
       "1  ORD0002          NPK  Fertilizer      43.0            80.17  2023-01-21   \n",
       "2  ORD0003  Asaase Wura   Weedicide      39.0            50.12  2023-08-03   \n",
       "3  ORD0004        Maize        Seed      11.0            51.33  2023-04-10   \n",
       "4  ORD0005          NPK  Fertilizer      40.0            73.73  2023-05-30   \n",
       "\n",
       "   CustomerRegion PurchasedAgain  \n",
       "0           Volta             No  \n",
       "1         Western             No  \n",
       "2         Ashanti             No  \n",
       "3  Ashanti region            Yes  \n",
       "4         Eastern            Yes  "
      ]
     },
     "execution_count": 3,
     "metadata": {},
     "output_type": "execute_result"
    }
   ],
   "source": [
    "# first few rows\n",
    "df.head()"
   ]
  },
  {
   "cell_type": "markdown",
   "id": "4809a220-f718-4f59-9797-8c3680794e4b",
   "metadata": {},
   "source": [
    "### The shape of the dataset (rows and columns)"
   ]
  },
  {
   "cell_type": "code",
   "execution_count": 4,
   "id": "f73811fe-804c-46ff-af75-ba1f3a95bde1",
   "metadata": {},
   "outputs": [
    {
     "data": {
      "text/plain": [
       "(300, 8)"
      ]
     },
     "execution_count": 4,
     "metadata": {},
     "output_type": "execute_result"
    }
   ],
   "source": [
    "# Number of rows and columns\n",
    "df.shape"
   ]
  },
  {
   "cell_type": "markdown",
   "id": "5b2e3988-adae-499e-babb-275091ce80d2",
   "metadata": {},
   "source": [
    "### Column names and data types"
   ]
  },
  {
   "cell_type": "code",
   "execution_count": 5,
   "id": "1f213959-b28d-4ced-ba08-ef6e788984ab",
   "metadata": {},
   "outputs": [
    {
     "data": {
      "text/plain": [
       "Index(['OrderID', 'Product', 'Category', 'Quantity', 'UnitPrice (GHS)',\n",
       "       'OrderDate', 'CustomerRegion', 'PurchasedAgain'],\n",
       "      dtype='object')"
      ]
     },
     "execution_count": 5,
     "metadata": {},
     "output_type": "execute_result"
    }
   ],
   "source": [
    "# Inspect column names\n",
    "df.columns"
   ]
  },
  {
   "cell_type": "markdown",
   "id": "ffee35a0-f196-444c-b035-c1a1f35b41f0",
   "metadata": {},
   "source": [
    "### Presence of duplicates and missing values"
   ]
  },
  {
   "cell_type": "code",
   "execution_count": 6,
   "id": "8d9f7362-f0f6-4c01-9520-9417f493ab79",
   "metadata": {},
   "outputs": [
    {
     "data": {
      "text/plain": [
       "np.int64(0)"
      ]
     },
     "execution_count": 6,
     "metadata": {},
     "output_type": "execute_result"
    }
   ],
   "source": [
    "# number of duplicate values\n",
    "df.duplicated().sum()"
   ]
  },
  {
   "cell_type": "markdown",
   "id": "f486ab00-fc0a-4804-868f-466b457712ce",
   "metadata": {},
   "source": [
    "* There are no duplicate rows."
   ]
  },
  {
   "cell_type": "markdown",
   "id": "253db99a-648f-4025-a053-df6e1e810a63",
   "metadata": {},
   "source": [
    "---\n",
    "## Data Cleaning and Preprocessing\n",
    "\n",
    "The data requires several cleaning steps:\n",
    "1. Handling missing values\n",
    "2. Standardizing product names (e.g., different spellings of \"maize\")\n",
    "3. Standardizing region names (e.g., \"Ashanti region\", \"ashanti\", \"ASHANTI\")\n",
    "4. Converting data types (dates to datetime, quantities to integers)"
   ]
  },
  {
   "cell_type": "markdown",
   "id": "b6d1b202-da61-40cf-913b-f61450ec8089",
   "metadata": {},
   "source": [
    "### Handling missing values"
   ]
  },
  {
   "cell_type": "code",
   "execution_count": 7,
   "id": "bb94e283-13db-40b4-abb6-fb01c2bd1fad",
   "metadata": {},
   "outputs": [
    {
     "data": {
      "text/plain": [
       "OrderID            0\n",
       "Product            2\n",
       "Category           0\n",
       "Quantity           3\n",
       "UnitPrice (GHS)    2\n",
       "OrderDate          1\n",
       "CustomerRegion     3\n",
       "PurchasedAgain     0\n",
       "dtype: int64"
      ]
     },
     "execution_count": 7,
     "metadata": {},
     "output_type": "execute_result"
    }
   ],
   "source": [
    "# Inspect for empty cells\n",
    "df.isna().sum()"
   ]
  },
  {
   "cell_type": "markdown",
   "id": "81b54884-98e7-43a6-a2e2-4fb0e623428f",
   "metadata": {},
   "source": [
    "* There are a couple of empty cells being inspected below."
   ]
  },
  {
   "cell_type": "code",
   "execution_count": 8,
   "id": "9627bcd2-076d-491b-ab43-9590b2b91a8f",
   "metadata": {},
   "outputs": [
    {
     "data": {
      "text/html": [
       "<div>\n",
       "<style scoped>\n",
       "    .dataframe tbody tr th:only-of-type {\n",
       "        vertical-align: middle;\n",
       "    }\n",
       "\n",
       "    .dataframe tbody tr th {\n",
       "        vertical-align: top;\n",
       "    }\n",
       "\n",
       "    .dataframe thead th {\n",
       "        text-align: right;\n",
       "    }\n",
       "</style>\n",
       "<table border=\"1\" class=\"dataframe\">\n",
       "  <thead>\n",
       "    <tr style=\"text-align: right;\">\n",
       "      <th></th>\n",
       "      <th>OrderID</th>\n",
       "      <th>Product</th>\n",
       "      <th>Category</th>\n",
       "      <th>Quantity</th>\n",
       "      <th>UnitPrice (GHS)</th>\n",
       "      <th>OrderDate</th>\n",
       "      <th>CustomerRegion</th>\n",
       "      <th>PurchasedAgain</th>\n",
       "    </tr>\n",
       "  </thead>\n",
       "  <tbody>\n",
       "    <tr>\n",
       "      <th>5</th>\n",
       "      <td>ORD0006</td>\n",
       "      <td>NPK</td>\n",
       "      <td>Fertilizer</td>\n",
       "      <td>2.0</td>\n",
       "      <td>NaN</td>\n",
       "      <td>2023-10-21</td>\n",
       "      <td>Eastern</td>\n",
       "      <td>No</td>\n",
       "    </tr>\n",
       "    <tr>\n",
       "      <th>70</th>\n",
       "      <td>ORD0071</td>\n",
       "      <td>NaN</td>\n",
       "      <td>Seed</td>\n",
       "      <td>3.0</td>\n",
       "      <td>82.86</td>\n",
       "      <td>2023-05-28</td>\n",
       "      <td>NaN</td>\n",
       "      <td>No</td>\n",
       "    </tr>\n",
       "    <tr>\n",
       "      <th>75</th>\n",
       "      <td>ORD0076</td>\n",
       "      <td>NPK</td>\n",
       "      <td>Fertilizer</td>\n",
       "      <td>NaN</td>\n",
       "      <td>69.40</td>\n",
       "      <td>2023-12-12</td>\n",
       "      <td>Ashanti</td>\n",
       "      <td>Yes</td>\n",
       "    </tr>\n",
       "    <tr>\n",
       "      <th>104</th>\n",
       "      <td>ORD0105</td>\n",
       "      <td>Maize</td>\n",
       "      <td>Seed</td>\n",
       "      <td>42.0</td>\n",
       "      <td>94.25</td>\n",
       "      <td>2023-02-27</td>\n",
       "      <td>NaN</td>\n",
       "      <td>No</td>\n",
       "    </tr>\n",
       "    <tr>\n",
       "      <th>130</th>\n",
       "      <td>ORD0131</td>\n",
       "      <td>Ammonia Sulphate</td>\n",
       "      <td>Fertilizer</td>\n",
       "      <td>NaN</td>\n",
       "      <td>26.46</td>\n",
       "      <td>2023-08-25</td>\n",
       "      <td>Northern</td>\n",
       "      <td>No</td>\n",
       "    </tr>\n",
       "    <tr>\n",
       "      <th>255</th>\n",
       "      <td>ORD0256</td>\n",
       "      <td>Asaase Wura</td>\n",
       "      <td>Weedicide</td>\n",
       "      <td>23.0</td>\n",
       "      <td>57.81</td>\n",
       "      <td>2023-12-31</td>\n",
       "      <td>NaN</td>\n",
       "      <td>Yes</td>\n",
       "    </tr>\n",
       "    <tr>\n",
       "      <th>262</th>\n",
       "      <td>ORD0263</td>\n",
       "      <td>Ammonia Sulphate</td>\n",
       "      <td>Fertilizer</td>\n",
       "      <td>NaN</td>\n",
       "      <td>NaN</td>\n",
       "      <td>2023-05-06</td>\n",
       "      <td>Western</td>\n",
       "      <td>Yes</td>\n",
       "    </tr>\n",
       "    <tr>\n",
       "      <th>271</th>\n",
       "      <td>ORD0272</td>\n",
       "      <td>Asaase Wura</td>\n",
       "      <td>Weedicide</td>\n",
       "      <td>45.0</td>\n",
       "      <td>39.73</td>\n",
       "      <td>NaN</td>\n",
       "      <td>Western</td>\n",
       "      <td>Yes</td>\n",
       "    </tr>\n",
       "    <tr>\n",
       "      <th>294</th>\n",
       "      <td>ORD0295</td>\n",
       "      <td>NaN</td>\n",
       "      <td>Seed</td>\n",
       "      <td>35.0</td>\n",
       "      <td>41.40</td>\n",
       "      <td>2023-11-01</td>\n",
       "      <td>Western</td>\n",
       "      <td>Yes</td>\n",
       "    </tr>\n",
       "  </tbody>\n",
       "</table>\n",
       "</div>"
      ],
      "text/plain": [
       "     OrderID           Product    Category  Quantity  UnitPrice (GHS)  \\\n",
       "5    ORD0006               NPK  Fertilizer       2.0              NaN   \n",
       "70   ORD0071               NaN        Seed       3.0            82.86   \n",
       "75   ORD0076               NPK  Fertilizer       NaN            69.40   \n",
       "104  ORD0105             Maize        Seed      42.0            94.25   \n",
       "130  ORD0131  Ammonia Sulphate  Fertilizer       NaN            26.46   \n",
       "255  ORD0256       Asaase Wura   Weedicide      23.0            57.81   \n",
       "262  ORD0263  Ammonia Sulphate  Fertilizer       NaN              NaN   \n",
       "271  ORD0272       Asaase Wura   Weedicide      45.0            39.73   \n",
       "294  ORD0295               NaN        Seed      35.0            41.40   \n",
       "\n",
       "      OrderDate CustomerRegion PurchasedAgain  \n",
       "5    2023-10-21        Eastern             No  \n",
       "70   2023-05-28            NaN             No  \n",
       "75   2023-12-12        Ashanti            Yes  \n",
       "104  2023-02-27            NaN             No  \n",
       "130  2023-08-25       Northern             No  \n",
       "255  2023-12-31            NaN            Yes  \n",
       "262  2023-05-06        Western            Yes  \n",
       "271         NaN        Western            Yes  \n",
       "294  2023-11-01        Western            Yes  "
      ]
     },
     "execution_count": 8,
     "metadata": {},
     "output_type": "execute_result"
    }
   ],
   "source": [
    "# Inspect empty cell rows\n",
    "empty_df = df[df['Product'].isna() | df['Quantity'].isna() | df['UnitPrice (GHS)'].isna() | df['OrderDate'].isna() | df['CustomerRegion'].isna()]\n",
    "empty_df"
   ]
  },
  {
   "cell_type": "markdown",
   "id": "6f234397-a0f9-45cf-9659-9396afeea324",
   "metadata": {},
   "source": [
    "* Export empty cells dataset for further investigation"
   ]
  },
  {
   "cell_type": "code",
   "execution_count": 9,
   "id": "5c25fd6a-e4f5-4555-94e9-0709eb9ff936",
   "metadata": {},
   "outputs": [],
   "source": [
    "# export n/a rows\n",
    "empty_df.to_csv('data/null_values_data.csv')"
   ]
  },
  {
   "cell_type": "markdown",
   "id": "f670c7fa-67d1-4938-bd0b-4ff4ddea3b83",
   "metadata": {},
   "source": [
    "### Remove n/a rows"
   ]
  },
  {
   "cell_type": "code",
   "execution_count": 10,
   "id": "6c72bb92-029b-475b-98f0-ac5ba72ff445",
   "metadata": {},
   "outputs": [
    {
     "data": {
      "text/plain": [
       "OrderID            0\n",
       "Product            0\n",
       "Category           0\n",
       "Quantity           0\n",
       "UnitPrice (GHS)    0\n",
       "OrderDate          0\n",
       "CustomerRegion     0\n",
       "PurchasedAgain     0\n",
       "dtype: int64"
      ]
     },
     "execution_count": 10,
     "metadata": {},
     "output_type": "execute_result"
    }
   ],
   "source": [
    "df1 = df.dropna()\n",
    "df1.isna().sum()"
   ]
  },
  {
   "cell_type": "code",
   "execution_count": 11,
   "id": "4d787a9e-80ee-4191-aaad-170749512b59",
   "metadata": {},
   "outputs": [
    {
     "data": {
      "text/html": [
       "<div>\n",
       "<style scoped>\n",
       "    .dataframe tbody tr th:only-of-type {\n",
       "        vertical-align: middle;\n",
       "    }\n",
       "\n",
       "    .dataframe tbody tr th {\n",
       "        vertical-align: top;\n",
       "    }\n",
       "\n",
       "    .dataframe thead th {\n",
       "        text-align: right;\n",
       "    }\n",
       "</style>\n",
       "<table border=\"1\" class=\"dataframe\">\n",
       "  <thead>\n",
       "    <tr style=\"text-align: right;\">\n",
       "      <th></th>\n",
       "      <th>Quantity</th>\n",
       "      <th>UnitPrice (GHS)</th>\n",
       "    </tr>\n",
       "  </thead>\n",
       "  <tbody>\n",
       "    <tr>\n",
       "      <th>count</th>\n",
       "      <td>291.000000</td>\n",
       "      <td>291.000000</td>\n",
       "    </tr>\n",
       "    <tr>\n",
       "      <th>mean</th>\n",
       "      <td>25.072165</td>\n",
       "      <td>57.738522</td>\n",
       "    </tr>\n",
       "    <tr>\n",
       "      <th>std</th>\n",
       "      <td>14.483937</td>\n",
       "      <td>26.176730</td>\n",
       "    </tr>\n",
       "    <tr>\n",
       "      <th>min</th>\n",
       "      <td>1.000000</td>\n",
       "      <td>10.240000</td>\n",
       "    </tr>\n",
       "    <tr>\n",
       "      <th>25%</th>\n",
       "      <td>12.000000</td>\n",
       "      <td>33.985000</td>\n",
       "    </tr>\n",
       "    <tr>\n",
       "      <th>50%</th>\n",
       "      <td>25.000000</td>\n",
       "      <td>59.670000</td>\n",
       "    </tr>\n",
       "    <tr>\n",
       "      <th>75%</th>\n",
       "      <td>37.000000</td>\n",
       "      <td>79.375000</td>\n",
       "    </tr>\n",
       "    <tr>\n",
       "      <th>max</th>\n",
       "      <td>49.000000</td>\n",
       "      <td>99.620000</td>\n",
       "    </tr>\n",
       "  </tbody>\n",
       "</table>\n",
       "</div>"
      ],
      "text/plain": [
       "         Quantity  UnitPrice (GHS)\n",
       "count  291.000000       291.000000\n",
       "mean    25.072165        57.738522\n",
       "std     14.483937        26.176730\n",
       "min      1.000000        10.240000\n",
       "25%     12.000000        33.985000\n",
       "50%     25.000000        59.670000\n",
       "75%     37.000000        79.375000\n",
       "max     49.000000        99.620000"
      ]
     },
     "execution_count": 11,
     "metadata": {},
     "output_type": "execute_result"
    }
   ],
   "source": [
    "df1.describe()"
   ]
  },
  {
   "cell_type": "code",
   "execution_count": 12,
   "id": "4aa09332-6f97-4582-9dbd-e5daebb37e15",
   "metadata": {},
   "outputs": [
    {
     "data": {
      "text/html": [
       "<div>\n",
       "<style scoped>\n",
       "    .dataframe tbody tr th:only-of-type {\n",
       "        vertical-align: middle;\n",
       "    }\n",
       "\n",
       "    .dataframe tbody tr th {\n",
       "        vertical-align: top;\n",
       "    }\n",
       "\n",
       "    .dataframe thead th {\n",
       "        text-align: right;\n",
       "    }\n",
       "</style>\n",
       "<table border=\"1\" class=\"dataframe\">\n",
       "  <thead>\n",
       "    <tr style=\"text-align: right;\">\n",
       "      <th></th>\n",
       "      <th>OrderID</th>\n",
       "      <th>Product</th>\n",
       "      <th>Category</th>\n",
       "      <th>OrderDate</th>\n",
       "      <th>CustomerRegion</th>\n",
       "      <th>PurchasedAgain</th>\n",
       "    </tr>\n",
       "  </thead>\n",
       "  <tbody>\n",
       "    <tr>\n",
       "      <th>count</th>\n",
       "      <td>291</td>\n",
       "      <td>291</td>\n",
       "      <td>291</td>\n",
       "      <td>291</td>\n",
       "      <td>291</td>\n",
       "      <td>291</td>\n",
       "    </tr>\n",
       "    <tr>\n",
       "      <th>unique</th>\n",
       "      <td>291</td>\n",
       "      <td>8</td>\n",
       "      <td>3</td>\n",
       "      <td>199</td>\n",
       "      <td>13</td>\n",
       "      <td>2</td>\n",
       "    </tr>\n",
       "    <tr>\n",
       "      <th>top</th>\n",
       "      <td>ORD0300</td>\n",
       "      <td>Asaase Wura</td>\n",
       "      <td>Fertilizer</td>\n",
       "      <td>2023-05-25</td>\n",
       "      <td>Western</td>\n",
       "      <td>Yes</td>\n",
       "    </tr>\n",
       "    <tr>\n",
       "      <th>freq</th>\n",
       "      <td>1</td>\n",
       "      <td>77</td>\n",
       "      <td>109</td>\n",
       "      <td>4</td>\n",
       "      <td>59</td>\n",
       "      <td>178</td>\n",
       "    </tr>\n",
       "  </tbody>\n",
       "</table>\n",
       "</div>"
      ],
      "text/plain": [
       "        OrderID      Product    Category   OrderDate CustomerRegion  \\\n",
       "count       291          291         291         291            291   \n",
       "unique      291            8           3         199             13   \n",
       "top     ORD0300  Asaase Wura  Fertilizer  2023-05-25        Western   \n",
       "freq          1           77         109           4             59   \n",
       "\n",
       "       PurchasedAgain  \n",
       "count             291  \n",
       "unique              2  \n",
       "top               Yes  \n",
       "freq              178  "
      ]
     },
     "execution_count": 12,
     "metadata": {},
     "output_type": "execute_result"
    }
   ],
   "source": [
    "df1.describe(include=\"O\")"
   ]
  },
  {
   "cell_type": "markdown",
   "id": "ee38c6ac-5041-47a5-bd61-2a5f7f8bacc4",
   "metadata": {},
   "source": [
    "### Standardizing product names (e.g., different spellings of \"maize\")"
   ]
  },
  {
   "cell_type": "code",
   "execution_count": 13,
   "id": "19c8b7fe-05df-40ee-aa1a-60dc5576feed",
   "metadata": {},
   "outputs": [
    {
     "name": "stdout",
     "output_type": "stream",
     "text": [
      "        Product: ['Asaase Wura' 'NPK' 'Maize' 'soyabean' 'tomato' 'Ammonia Sulphate'\n",
      " 'MAIZE' 'maize']\n",
      "       Category: ['Weedicide' 'Fertilizer' 'Seed']\n",
      " CustomerRegion: ['Volta' 'Western' 'Ashanti' 'Ashanti region' 'Eastern' 'Eastern Region'\n",
      " 'eastern reg' 'Northern' 'Volta_reg' 'ashanti' 'ASHANTI' 'eastern region'\n",
      " 'Volta_region']\n",
      " PurchasedAgain: ['No' 'Yes']\n"
     ]
    }
   ],
   "source": [
    "cols = ['Product', 'Category', 'CustomerRegion', 'PurchasedAgain']\n",
    "for col in cols:\n",
    "    print(f\"{col:>15}: {df1[col].unique()}\")"
   ]
  },
  {
   "cell_type": "markdown",
   "id": "719e312d-f6cb-4321-8d84-dbe2d1a0c1b4",
   "metadata": {},
   "source": [
    "### Standardizing region names (e.g., \"Ashanti region\", \"ashanti\", \"ASHANTI\")"
   ]
  },
  {
   "cell_type": "code",
   "execution_count": 14,
   "id": "6242bf79-f45f-4617-9bc0-ab9fc4c03191",
   "metadata": {},
   "outputs": [
    {
     "data": {
      "text/plain": [
       "array(['Asaase Wura', 'NPK', 'maize', 'soyabean', 'tomato',\n",
       "       'Ammonia Sulphate'], dtype=object)"
      ]
     },
     "execution_count": 14,
     "metadata": {},
     "output_type": "execute_result"
    }
   ],
   "source": [
    "df1['Product'] = df1['Product'].apply(lambda x: 'maize' if str(x).lower() == 'maize' else x)\n",
    "df1['Product'].unique()"
   ]
  },
  {
   "cell_type": "code",
   "execution_count": 15,
   "id": "43b8a795-5e92-4966-a78d-c00fe3aa350a",
   "metadata": {},
   "outputs": [
    {
     "data": {
      "text/plain": [
       "array(['Volta', 'Western', 'Ashanti', 'Eastern', 'Northern'], dtype=object)"
      ]
     },
     "execution_count": 15,
     "metadata": {},
     "output_type": "execute_result"
    }
   ],
   "source": [
    "df1['CustomerRegion'] = df1['CustomerRegion'].apply(lambda x: 'Ashanti' if x == 'Ashanti region' or x == 'ashanti' or x ==  'ASHANTI'\n",
    "                                                  else 'Volta' if x == 'Volta_reg' or x == 'Volta_region'\n",
    "                                                  else 'Eastern' if x == 'Eastern Region' or x == 'eastern reg' or x == 'eastern region'\n",
    "                                                  else x)\n",
    "\n",
    "df1['CustomerRegion'].unique()"
   ]
  },
  {
   "cell_type": "code",
   "execution_count": 16,
   "id": "fd3057f4-0ec0-49d8-8ab6-b3ddec6ed84c",
   "metadata": {},
   "outputs": [
    {
     "data": {
      "text/html": [
       "<div>\n",
       "<style scoped>\n",
       "    .dataframe tbody tr th:only-of-type {\n",
       "        vertical-align: middle;\n",
       "    }\n",
       "\n",
       "    .dataframe tbody tr th {\n",
       "        vertical-align: top;\n",
       "    }\n",
       "\n",
       "    .dataframe thead th {\n",
       "        text-align: right;\n",
       "    }\n",
       "</style>\n",
       "<table border=\"1\" class=\"dataframe\">\n",
       "  <thead>\n",
       "    <tr style=\"text-align: right;\">\n",
       "      <th></th>\n",
       "      <th>OrderID</th>\n",
       "      <th>Product</th>\n",
       "      <th>Category</th>\n",
       "      <th>OrderDate</th>\n",
       "      <th>CustomerRegion</th>\n",
       "      <th>PurchasedAgain</th>\n",
       "    </tr>\n",
       "  </thead>\n",
       "  <tbody>\n",
       "    <tr>\n",
       "      <th>count</th>\n",
       "      <td>291</td>\n",
       "      <td>291</td>\n",
       "      <td>291</td>\n",
       "      <td>291</td>\n",
       "      <td>291</td>\n",
       "      <td>291</td>\n",
       "    </tr>\n",
       "    <tr>\n",
       "      <th>unique</th>\n",
       "      <td>291</td>\n",
       "      <td>6</td>\n",
       "      <td>3</td>\n",
       "      <td>199</td>\n",
       "      <td>5</td>\n",
       "      <td>2</td>\n",
       "    </tr>\n",
       "    <tr>\n",
       "      <th>top</th>\n",
       "      <td>ORD0300</td>\n",
       "      <td>Asaase Wura</td>\n",
       "      <td>Fertilizer</td>\n",
       "      <td>2023-05-25</td>\n",
       "      <td>Ashanti</td>\n",
       "      <td>Yes</td>\n",
       "    </tr>\n",
       "    <tr>\n",
       "      <th>freq</th>\n",
       "      <td>1</td>\n",
       "      <td>77</td>\n",
       "      <td>109</td>\n",
       "      <td>4</td>\n",
       "      <td>66</td>\n",
       "      <td>178</td>\n",
       "    </tr>\n",
       "  </tbody>\n",
       "</table>\n",
       "</div>"
      ],
      "text/plain": [
       "        OrderID      Product    Category   OrderDate CustomerRegion  \\\n",
       "count       291          291         291         291            291   \n",
       "unique      291            6           3         199              5   \n",
       "top     ORD0300  Asaase Wura  Fertilizer  2023-05-25        Ashanti   \n",
       "freq          1           77         109           4             66   \n",
       "\n",
       "       PurchasedAgain  \n",
       "count             291  \n",
       "unique              2  \n",
       "top               Yes  \n",
       "freq              178  "
      ]
     },
     "execution_count": 16,
     "metadata": {},
     "output_type": "execute_result"
    }
   ],
   "source": [
    "df1.describe(include=\"O\")"
   ]
  },
  {
   "cell_type": "markdown",
   "id": "a0227f31-a05a-44d5-9290-9b427b1aee28",
   "metadata": {},
   "source": [
    "### Converting data types (dates to datetime, quantities to integers)"
   ]
  },
  {
   "cell_type": "code",
   "execution_count": 17,
   "id": "563effa3-1783-4e7a-9838-92def976f628",
   "metadata": {},
   "outputs": [
    {
     "name": "stdout",
     "output_type": "stream",
     "text": [
      "<class 'pandas.core.frame.DataFrame'>\n",
      "Index: 291 entries, 0 to 299\n",
      "Data columns (total 8 columns):\n",
      " #   Column           Non-Null Count  Dtype  \n",
      "---  ------           --------------  -----  \n",
      " 0   OrderID          291 non-null    object \n",
      " 1   Product          291 non-null    object \n",
      " 2   Category         291 non-null    object \n",
      " 3   Quantity         291 non-null    float64\n",
      " 4   UnitPrice (GHS)  291 non-null    float64\n",
      " 5   OrderDate        291 non-null    object \n",
      " 6   CustomerRegion   291 non-null    object \n",
      " 7   PurchasedAgain   291 non-null    object \n",
      "dtypes: float64(2), object(6)\n",
      "memory usage: 20.5+ KB\n"
     ]
    }
   ],
   "source": [
    "df1.info()"
   ]
  },
  {
   "cell_type": "code",
   "execution_count": 18,
   "id": "377db5ef-732e-4862-964e-244e9f863e89",
   "metadata": {},
   "outputs": [
    {
     "name": "stdout",
     "output_type": "stream",
     "text": [
      "<class 'pandas.core.frame.DataFrame'>\n",
      "Index: 291 entries, 0 to 299\n",
      "Data columns (total 8 columns):\n",
      " #   Column           Non-Null Count  Dtype         \n",
      "---  ------           --------------  -----         \n",
      " 0   OrderID          291 non-null    object        \n",
      " 1   Product          291 non-null    object        \n",
      " 2   Category         291 non-null    object        \n",
      " 3   Quantity         291 non-null    float64       \n",
      " 4   UnitPrice (GHS)  291 non-null    float64       \n",
      " 5   OrderDate        291 non-null    datetime64[ns]\n",
      " 6   CustomerRegion   291 non-null    object        \n",
      " 7   PurchasedAgain   291 non-null    object        \n",
      "dtypes: datetime64[ns](1), float64(2), object(5)\n",
      "memory usage: 20.5+ KB\n"
     ]
    }
   ],
   "source": [
    "df1['OrderDate'] = pd.to_datetime(df1['OrderDate'])\n",
    "df1.info()"
   ]
  },
  {
   "cell_type": "code",
   "execution_count": 19,
   "id": "64972f61-afe4-4eb5-a73c-4a07fe3fb765",
   "metadata": {},
   "outputs": [
    {
     "data": {
      "text/html": [
       "<div>\n",
       "<style scoped>\n",
       "    .dataframe tbody tr th:only-of-type {\n",
       "        vertical-align: middle;\n",
       "    }\n",
       "\n",
       "    .dataframe tbody tr th {\n",
       "        vertical-align: top;\n",
       "    }\n",
       "\n",
       "    .dataframe thead th {\n",
       "        text-align: right;\n",
       "    }\n",
       "</style>\n",
       "<table border=\"1\" class=\"dataframe\">\n",
       "  <thead>\n",
       "    <tr style=\"text-align: right;\">\n",
       "      <th></th>\n",
       "      <th>OrderID</th>\n",
       "      <th>Product</th>\n",
       "      <th>Category</th>\n",
       "      <th>Quantity</th>\n",
       "      <th>UnitPrice (GHS)</th>\n",
       "      <th>OrderDate</th>\n",
       "      <th>CustomerRegion</th>\n",
       "      <th>PurchasedAgain</th>\n",
       "    </tr>\n",
       "  </thead>\n",
       "  <tbody>\n",
       "    <tr>\n",
       "      <th>0</th>\n",
       "      <td>ORD0001</td>\n",
       "      <td>Asaase Wura</td>\n",
       "      <td>Weedicide</td>\n",
       "      <td>39.0</td>\n",
       "      <td>81.69</td>\n",
       "      <td>2023-09-28</td>\n",
       "      <td>Volta</td>\n",
       "      <td>No</td>\n",
       "    </tr>\n",
       "    <tr>\n",
       "      <th>1</th>\n",
       "      <td>ORD0002</td>\n",
       "      <td>NPK</td>\n",
       "      <td>Fertilizer</td>\n",
       "      <td>43.0</td>\n",
       "      <td>80.17</td>\n",
       "      <td>2023-01-21</td>\n",
       "      <td>Western</td>\n",
       "      <td>No</td>\n",
       "    </tr>\n",
       "    <tr>\n",
       "      <th>2</th>\n",
       "      <td>ORD0003</td>\n",
       "      <td>Asaase Wura</td>\n",
       "      <td>Weedicide</td>\n",
       "      <td>39.0</td>\n",
       "      <td>50.12</td>\n",
       "      <td>2023-08-03</td>\n",
       "      <td>Ashanti</td>\n",
       "      <td>No</td>\n",
       "    </tr>\n",
       "    <tr>\n",
       "      <th>3</th>\n",
       "      <td>ORD0004</td>\n",
       "      <td>maize</td>\n",
       "      <td>Seed</td>\n",
       "      <td>11.0</td>\n",
       "      <td>51.33</td>\n",
       "      <td>2023-04-10</td>\n",
       "      <td>Ashanti</td>\n",
       "      <td>Yes</td>\n",
       "    </tr>\n",
       "    <tr>\n",
       "      <th>4</th>\n",
       "      <td>ORD0005</td>\n",
       "      <td>NPK</td>\n",
       "      <td>Fertilizer</td>\n",
       "      <td>40.0</td>\n",
       "      <td>73.73</td>\n",
       "      <td>2023-05-30</td>\n",
       "      <td>Eastern</td>\n",
       "      <td>Yes</td>\n",
       "    </tr>\n",
       "  </tbody>\n",
       "</table>\n",
       "</div>"
      ],
      "text/plain": [
       "   OrderID      Product    Category  Quantity  UnitPrice (GHS)  OrderDate  \\\n",
       "0  ORD0001  Asaase Wura   Weedicide      39.0            81.69 2023-09-28   \n",
       "1  ORD0002          NPK  Fertilizer      43.0            80.17 2023-01-21   \n",
       "2  ORD0003  Asaase Wura   Weedicide      39.0            50.12 2023-08-03   \n",
       "3  ORD0004        maize        Seed      11.0            51.33 2023-04-10   \n",
       "4  ORD0005          NPK  Fertilizer      40.0            73.73 2023-05-30   \n",
       "\n",
       "  CustomerRegion PurchasedAgain  \n",
       "0          Volta             No  \n",
       "1        Western             No  \n",
       "2        Ashanti             No  \n",
       "3        Ashanti            Yes  \n",
       "4        Eastern            Yes  "
      ]
     },
     "execution_count": 19,
     "metadata": {},
     "output_type": "execute_result"
    }
   ],
   "source": [
    "df1.head()"
   ]
  },
  {
   "cell_type": "code",
   "execution_count": 20,
   "id": "5859c0f8-b2a2-4f15-9b07-7b8242cac033",
   "metadata": {},
   "outputs": [
    {
     "data": {
      "text/html": [
       "<div>\n",
       "<style scoped>\n",
       "    .dataframe tbody tr th:only-of-type {\n",
       "        vertical-align: middle;\n",
       "    }\n",
       "\n",
       "    .dataframe tbody tr th {\n",
       "        vertical-align: top;\n",
       "    }\n",
       "\n",
       "    .dataframe thead th {\n",
       "        text-align: right;\n",
       "    }\n",
       "</style>\n",
       "<table border=\"1\" class=\"dataframe\">\n",
       "  <thead>\n",
       "    <tr style=\"text-align: right;\">\n",
       "      <th></th>\n",
       "      <th>OrderID</th>\n",
       "      <th>Product</th>\n",
       "      <th>Category</th>\n",
       "      <th>Quantity</th>\n",
       "      <th>UnitPrice (GHS)</th>\n",
       "      <th>OrderDate</th>\n",
       "      <th>CustomerRegion</th>\n",
       "      <th>PurchasedAgain</th>\n",
       "    </tr>\n",
       "  </thead>\n",
       "  <tbody>\n",
       "  </tbody>\n",
       "</table>\n",
       "</div>"
      ],
      "text/plain": [
       "Empty DataFrame\n",
       "Columns: [OrderID, Product, Category, Quantity, UnitPrice (GHS), OrderDate, CustomerRegion, PurchasedAgain]\n",
       "Index: []"
      ]
     },
     "execution_count": 20,
     "metadata": {},
     "output_type": "execute_result"
    }
   ],
   "source": [
    "# Checking if there are quantities in decimals\n",
    "df1[(df1['Quantity'] % 1) > 0]"
   ]
  },
  {
   "cell_type": "code",
   "execution_count": 21,
   "id": "2ebd49f9-18b1-4b10-887a-321dcfac64c3",
   "metadata": {},
   "outputs": [],
   "source": [
    "# Convert Quantity column to whole number\n",
    "df1['Quantity'] = df1['Quantity'].astype('int')\n",
    "df1.head();"
   ]
  },
  {
   "cell_type": "code",
   "execution_count": 22,
   "id": "8a3d6b98-6fb7-4462-9088-35fa9b24437f",
   "metadata": {},
   "outputs": [
    {
     "data": {
      "text/plain": [
       "(291, 8)"
      ]
     },
     "execution_count": 22,
     "metadata": {},
     "output_type": "execute_result"
    }
   ],
   "source": [
    "df1.shape"
   ]
  },
  {
   "cell_type": "code",
   "execution_count": 23,
   "id": "f8fae457-92a7-417b-ba28-da9943b2cfef",
   "metadata": {},
   "outputs": [],
   "source": [
    "# Export the cleaned Dataset for Power BI visual\n",
    "df1.to_csv('data/cleaned_data.csv')"
   ]
  },
  {
   "cell_type": "markdown",
   "id": "2ca9e6cf-cb03-4157-8fe2-2718dda4e7ea",
   "metadata": {},
   "source": [
    "---\n",
    "## Feature Engineering\n",
    "\n",
    "To enhance our analysis, we'll create additional features:\n",
    "- Day of the week from OrderDate\n",
    "- Month from OrderDate\n",
    "- Year from OrderDate\n",
    "- Sales Amount (Quantity × Unit Price)\n",
    "\n",
    "These derived features will help us identify temporal patterns and financial performance."
   ]
  },
  {
   "cell_type": "markdown",
   "id": "1f2debf9-a075-49db-9d08-da45b7b1c270",
   "metadata": {},
   "source": [
    "### Day of the week"
   ]
  },
  {
   "cell_type": "code",
   "execution_count": 24,
   "id": "9839f5a6-6785-44cc-b6a0-b41e677bc48c",
   "metadata": {},
   "outputs": [
    {
     "data": {
      "text/html": [
       "<div>\n",
       "<style scoped>\n",
       "    .dataframe tbody tr th:only-of-type {\n",
       "        vertical-align: middle;\n",
       "    }\n",
       "\n",
       "    .dataframe tbody tr th {\n",
       "        vertical-align: top;\n",
       "    }\n",
       "\n",
       "    .dataframe thead th {\n",
       "        text-align: right;\n",
       "    }\n",
       "</style>\n",
       "<table border=\"1\" class=\"dataframe\">\n",
       "  <thead>\n",
       "    <tr style=\"text-align: right;\">\n",
       "      <th></th>\n",
       "      <th>OrderID</th>\n",
       "      <th>Product</th>\n",
       "      <th>Category</th>\n",
       "      <th>Quantity</th>\n",
       "      <th>UnitPrice (GHS)</th>\n",
       "      <th>OrderDate</th>\n",
       "      <th>CustomerRegion</th>\n",
       "      <th>PurchasedAgain</th>\n",
       "      <th>Day</th>\n",
       "    </tr>\n",
       "  </thead>\n",
       "  <tbody>\n",
       "    <tr>\n",
       "      <th>0</th>\n",
       "      <td>ORD0001</td>\n",
       "      <td>Asaase Wura</td>\n",
       "      <td>Weedicide</td>\n",
       "      <td>39</td>\n",
       "      <td>81.69</td>\n",
       "      <td>2023-09-28</td>\n",
       "      <td>Volta</td>\n",
       "      <td>No</td>\n",
       "      <td>Thursday</td>\n",
       "    </tr>\n",
       "    <tr>\n",
       "      <th>1</th>\n",
       "      <td>ORD0002</td>\n",
       "      <td>NPK</td>\n",
       "      <td>Fertilizer</td>\n",
       "      <td>43</td>\n",
       "      <td>80.17</td>\n",
       "      <td>2023-01-21</td>\n",
       "      <td>Western</td>\n",
       "      <td>No</td>\n",
       "      <td>Saturday</td>\n",
       "    </tr>\n",
       "    <tr>\n",
       "      <th>2</th>\n",
       "      <td>ORD0003</td>\n",
       "      <td>Asaase Wura</td>\n",
       "      <td>Weedicide</td>\n",
       "      <td>39</td>\n",
       "      <td>50.12</td>\n",
       "      <td>2023-08-03</td>\n",
       "      <td>Ashanti</td>\n",
       "      <td>No</td>\n",
       "      <td>Thursday</td>\n",
       "    </tr>\n",
       "    <tr>\n",
       "      <th>3</th>\n",
       "      <td>ORD0004</td>\n",
       "      <td>maize</td>\n",
       "      <td>Seed</td>\n",
       "      <td>11</td>\n",
       "      <td>51.33</td>\n",
       "      <td>2023-04-10</td>\n",
       "      <td>Ashanti</td>\n",
       "      <td>Yes</td>\n",
       "      <td>Monday</td>\n",
       "    </tr>\n",
       "    <tr>\n",
       "      <th>4</th>\n",
       "      <td>ORD0005</td>\n",
       "      <td>NPK</td>\n",
       "      <td>Fertilizer</td>\n",
       "      <td>40</td>\n",
       "      <td>73.73</td>\n",
       "      <td>2023-05-30</td>\n",
       "      <td>Eastern</td>\n",
       "      <td>Yes</td>\n",
       "      <td>Tuesday</td>\n",
       "    </tr>\n",
       "  </tbody>\n",
       "</table>\n",
       "</div>"
      ],
      "text/plain": [
       "   OrderID      Product    Category  Quantity  UnitPrice (GHS)  OrderDate  \\\n",
       "0  ORD0001  Asaase Wura   Weedicide        39            81.69 2023-09-28   \n",
       "1  ORD0002          NPK  Fertilizer        43            80.17 2023-01-21   \n",
       "2  ORD0003  Asaase Wura   Weedicide        39            50.12 2023-08-03   \n",
       "3  ORD0004        maize        Seed        11            51.33 2023-04-10   \n",
       "4  ORD0005          NPK  Fertilizer        40            73.73 2023-05-30   \n",
       "\n",
       "  CustomerRegion PurchasedAgain       Day  \n",
       "0          Volta             No  Thursday  \n",
       "1        Western             No  Saturday  \n",
       "2        Ashanti             No  Thursday  \n",
       "3        Ashanti            Yes    Monday  \n",
       "4        Eastern            Yes   Tuesday  "
      ]
     },
     "execution_count": 24,
     "metadata": {},
     "output_type": "execute_result"
    }
   ],
   "source": [
    "# create day of the week column\n",
    "data = df1.copy()\n",
    "data['Day'] = data['OrderDate'].dt.day_name()\n",
    "data.head()"
   ]
  },
  {
   "cell_type": "code",
   "execution_count": 25,
   "id": "ee5c45bf-1e50-4f38-afeb-740220f5875b",
   "metadata": {},
   "outputs": [],
   "source": [
    "# Maintain day order for sorting data\n",
    "day_order = ['Monday', 'Tuesday', 'Wednesday', 'Thursday', 'Friday', 'Saturday', 'Sunday']\n",
    "data['Day'] = pd.Categorical(data['Day'], categories=day_order, ordered=True)"
   ]
  },
  {
   "cell_type": "markdown",
   "id": "297b3e06-24f7-4c36-b7cb-722a2a4825f8",
   "metadata": {},
   "source": [
    "### Month of the year"
   ]
  },
  {
   "cell_type": "code",
   "execution_count": 26,
   "id": "45d35a23-9364-4dcd-8225-f820b4d7acf6",
   "metadata": {},
   "outputs": [
    {
     "data": {
      "text/html": [
       "<div>\n",
       "<style scoped>\n",
       "    .dataframe tbody tr th:only-of-type {\n",
       "        vertical-align: middle;\n",
       "    }\n",
       "\n",
       "    .dataframe tbody tr th {\n",
       "        vertical-align: top;\n",
       "    }\n",
       "\n",
       "    .dataframe thead th {\n",
       "        text-align: right;\n",
       "    }\n",
       "</style>\n",
       "<table border=\"1\" class=\"dataframe\">\n",
       "  <thead>\n",
       "    <tr style=\"text-align: right;\">\n",
       "      <th></th>\n",
       "      <th>OrderID</th>\n",
       "      <th>Product</th>\n",
       "      <th>Category</th>\n",
       "      <th>Quantity</th>\n",
       "      <th>UnitPrice (GHS)</th>\n",
       "      <th>OrderDate</th>\n",
       "      <th>CustomerRegion</th>\n",
       "      <th>PurchasedAgain</th>\n",
       "      <th>Day</th>\n",
       "      <th>Month</th>\n",
       "    </tr>\n",
       "  </thead>\n",
       "  <tbody>\n",
       "    <tr>\n",
       "      <th>0</th>\n",
       "      <td>ORD0001</td>\n",
       "      <td>Asaase Wura</td>\n",
       "      <td>Weedicide</td>\n",
       "      <td>39</td>\n",
       "      <td>81.69</td>\n",
       "      <td>2023-09-28</td>\n",
       "      <td>Volta</td>\n",
       "      <td>No</td>\n",
       "      <td>Thursday</td>\n",
       "      <td>September</td>\n",
       "    </tr>\n",
       "    <tr>\n",
       "      <th>1</th>\n",
       "      <td>ORD0002</td>\n",
       "      <td>NPK</td>\n",
       "      <td>Fertilizer</td>\n",
       "      <td>43</td>\n",
       "      <td>80.17</td>\n",
       "      <td>2023-01-21</td>\n",
       "      <td>Western</td>\n",
       "      <td>No</td>\n",
       "      <td>Saturday</td>\n",
       "      <td>January</td>\n",
       "    </tr>\n",
       "    <tr>\n",
       "      <th>2</th>\n",
       "      <td>ORD0003</td>\n",
       "      <td>Asaase Wura</td>\n",
       "      <td>Weedicide</td>\n",
       "      <td>39</td>\n",
       "      <td>50.12</td>\n",
       "      <td>2023-08-03</td>\n",
       "      <td>Ashanti</td>\n",
       "      <td>No</td>\n",
       "      <td>Thursday</td>\n",
       "      <td>August</td>\n",
       "    </tr>\n",
       "    <tr>\n",
       "      <th>3</th>\n",
       "      <td>ORD0004</td>\n",
       "      <td>maize</td>\n",
       "      <td>Seed</td>\n",
       "      <td>11</td>\n",
       "      <td>51.33</td>\n",
       "      <td>2023-04-10</td>\n",
       "      <td>Ashanti</td>\n",
       "      <td>Yes</td>\n",
       "      <td>Monday</td>\n",
       "      <td>April</td>\n",
       "    </tr>\n",
       "    <tr>\n",
       "      <th>4</th>\n",
       "      <td>ORD0005</td>\n",
       "      <td>NPK</td>\n",
       "      <td>Fertilizer</td>\n",
       "      <td>40</td>\n",
       "      <td>73.73</td>\n",
       "      <td>2023-05-30</td>\n",
       "      <td>Eastern</td>\n",
       "      <td>Yes</td>\n",
       "      <td>Tuesday</td>\n",
       "      <td>May</td>\n",
       "    </tr>\n",
       "  </tbody>\n",
       "</table>\n",
       "</div>"
      ],
      "text/plain": [
       "   OrderID      Product    Category  Quantity  UnitPrice (GHS)  OrderDate  \\\n",
       "0  ORD0001  Asaase Wura   Weedicide        39            81.69 2023-09-28   \n",
       "1  ORD0002          NPK  Fertilizer        43            80.17 2023-01-21   \n",
       "2  ORD0003  Asaase Wura   Weedicide        39            50.12 2023-08-03   \n",
       "3  ORD0004        maize        Seed        11            51.33 2023-04-10   \n",
       "4  ORD0005          NPK  Fertilizer        40            73.73 2023-05-30   \n",
       "\n",
       "  CustomerRegion PurchasedAgain       Day      Month  \n",
       "0          Volta             No  Thursday  September  \n",
       "1        Western             No  Saturday    January  \n",
       "2        Ashanti             No  Thursday     August  \n",
       "3        Ashanti            Yes    Monday      April  \n",
       "4        Eastern            Yes   Tuesday        May  "
      ]
     },
     "execution_count": 26,
     "metadata": {},
     "output_type": "execute_result"
    }
   ],
   "source": [
    "data['Month'] = data['OrderDate'].dt.month_name()\n",
    "data.head()"
   ]
  },
  {
   "cell_type": "code",
   "execution_count": 27,
   "id": "93bbc748-1de0-4c14-8761-7aa532ea437d",
   "metadata": {},
   "outputs": [
    {
     "data": {
      "text/plain": [
       "array(['September', 'January', 'August', 'April', 'May', 'October',\n",
       "       'February', 'July', 'June', 'November', 'December', 'March'],\n",
       "      dtype=object)"
      ]
     },
     "execution_count": 27,
     "metadata": {},
     "output_type": "execute_result"
    }
   ],
   "source": [
    "data['Month'].unique()"
   ]
  },
  {
   "cell_type": "code",
   "execution_count": 28,
   "id": "2b3bc30e-950c-41fc-b289-5ead7c9e7a07",
   "metadata": {},
   "outputs": [],
   "source": [
    "# Maintain month order for sorting data\n",
    "month_order = ['January', 'February', 'March', 'April', 'May', 'June', 'July', 'August', 'September', 'October', 'November', 'December']\n",
    "data['Month'] = pd.Categorical(data['Month'], categories=month_order, ordered=True)"
   ]
  },
  {
   "cell_type": "markdown",
   "id": "81c5f315-4486-47b9-8972-a7a979bccf9e",
   "metadata": {},
   "source": [
    "#### Inspect `Categories` column"
   ]
  },
  {
   "cell_type": "code",
   "execution_count": 29,
   "id": "bdb18d54-b88b-4032-8977-06179da061c5",
   "metadata": {},
   "outputs": [
    {
     "data": {
      "text/plain": [
       "array(['Weedicide', 'Fertilizer', 'Seed'], dtype=object)"
      ]
     },
     "execution_count": 29,
     "metadata": {},
     "output_type": "execute_result"
    }
   ],
   "source": [
    "data['Category'].unique()"
   ]
  },
  {
   "cell_type": "markdown",
   "id": "3ea25ce7-ec27-4cf2-bfec-72cffe057737",
   "metadata": {},
   "source": [
    "### Year"
   ]
  },
  {
   "cell_type": "code",
   "execution_count": 30,
   "id": "481df40b-666b-4966-9049-d6e9160d5c46",
   "metadata": {},
   "outputs": [],
   "source": [
    "# number of years\n",
    "data['Year'] = data['OrderDate'].dt.year"
   ]
  },
  {
   "cell_type": "code",
   "execution_count": 31,
   "id": "e186a219-2486-4d17-9b81-4cc4b5c0b71c",
   "metadata": {},
   "outputs": [
    {
     "data": {
      "text/plain": [
       "1"
      ]
     },
     "execution_count": 31,
     "metadata": {},
     "output_type": "execute_result"
    }
   ],
   "source": [
    "data['Year'].nunique()"
   ]
  },
  {
   "cell_type": "markdown",
   "id": "def8befd-1856-411e-a654-2a23b07bb4e3",
   "metadata": {},
   "source": [
    "* Drop `Year` column since there's only one unique value there."
   ]
  },
  {
   "cell_type": "code",
   "execution_count": 32,
   "id": "b9e535e0-0bd1-4609-823a-9e4952b69c52",
   "metadata": {},
   "outputs": [],
   "source": [
    "# drop `year` column\n",
    "data = data.drop('Year', axis=1)"
   ]
  },
  {
   "cell_type": "markdown",
   "id": "85effefe-bc5b-44b2-a1ef-edd8d39f9d2b",
   "metadata": {},
   "source": [
    "### Sales Amount (Quantity × Unit Price)"
   ]
  },
  {
   "cell_type": "code",
   "execution_count": 33,
   "id": "f55a0e77-70b2-48ac-bc03-ea5dc7260fd4",
   "metadata": {},
   "outputs": [
    {
     "data": {
      "text/html": [
       "<div>\n",
       "<style scoped>\n",
       "    .dataframe tbody tr th:only-of-type {\n",
       "        vertical-align: middle;\n",
       "    }\n",
       "\n",
       "    .dataframe tbody tr th {\n",
       "        vertical-align: top;\n",
       "    }\n",
       "\n",
       "    .dataframe thead th {\n",
       "        text-align: right;\n",
       "    }\n",
       "</style>\n",
       "<table border=\"1\" class=\"dataframe\">\n",
       "  <thead>\n",
       "    <tr style=\"text-align: right;\">\n",
       "      <th></th>\n",
       "      <th>OrderID</th>\n",
       "      <th>Product</th>\n",
       "      <th>Category</th>\n",
       "      <th>Quantity</th>\n",
       "      <th>UnitPrice (GHS)</th>\n",
       "      <th>OrderDate</th>\n",
       "      <th>CustomerRegion</th>\n",
       "      <th>PurchasedAgain</th>\n",
       "      <th>Day</th>\n",
       "      <th>Month</th>\n",
       "      <th>SalesAmount (GHS)</th>\n",
       "    </tr>\n",
       "  </thead>\n",
       "  <tbody>\n",
       "    <tr>\n",
       "      <th>0</th>\n",
       "      <td>ORD0001</td>\n",
       "      <td>Asaase Wura</td>\n",
       "      <td>Weedicide</td>\n",
       "      <td>39</td>\n",
       "      <td>81.69</td>\n",
       "      <td>2023-09-28</td>\n",
       "      <td>Volta</td>\n",
       "      <td>No</td>\n",
       "      <td>Thursday</td>\n",
       "      <td>September</td>\n",
       "      <td>3185.91</td>\n",
       "    </tr>\n",
       "    <tr>\n",
       "      <th>1</th>\n",
       "      <td>ORD0002</td>\n",
       "      <td>NPK</td>\n",
       "      <td>Fertilizer</td>\n",
       "      <td>43</td>\n",
       "      <td>80.17</td>\n",
       "      <td>2023-01-21</td>\n",
       "      <td>Western</td>\n",
       "      <td>No</td>\n",
       "      <td>Saturday</td>\n",
       "      <td>January</td>\n",
       "      <td>3447.31</td>\n",
       "    </tr>\n",
       "    <tr>\n",
       "      <th>2</th>\n",
       "      <td>ORD0003</td>\n",
       "      <td>Asaase Wura</td>\n",
       "      <td>Weedicide</td>\n",
       "      <td>39</td>\n",
       "      <td>50.12</td>\n",
       "      <td>2023-08-03</td>\n",
       "      <td>Ashanti</td>\n",
       "      <td>No</td>\n",
       "      <td>Thursday</td>\n",
       "      <td>August</td>\n",
       "      <td>1954.68</td>\n",
       "    </tr>\n",
       "    <tr>\n",
       "      <th>3</th>\n",
       "      <td>ORD0004</td>\n",
       "      <td>maize</td>\n",
       "      <td>Seed</td>\n",
       "      <td>11</td>\n",
       "      <td>51.33</td>\n",
       "      <td>2023-04-10</td>\n",
       "      <td>Ashanti</td>\n",
       "      <td>Yes</td>\n",
       "      <td>Monday</td>\n",
       "      <td>April</td>\n",
       "      <td>564.63</td>\n",
       "    </tr>\n",
       "    <tr>\n",
       "      <th>4</th>\n",
       "      <td>ORD0005</td>\n",
       "      <td>NPK</td>\n",
       "      <td>Fertilizer</td>\n",
       "      <td>40</td>\n",
       "      <td>73.73</td>\n",
       "      <td>2023-05-30</td>\n",
       "      <td>Eastern</td>\n",
       "      <td>Yes</td>\n",
       "      <td>Tuesday</td>\n",
       "      <td>May</td>\n",
       "      <td>2949.20</td>\n",
       "    </tr>\n",
       "  </tbody>\n",
       "</table>\n",
       "</div>"
      ],
      "text/plain": [
       "   OrderID      Product    Category  Quantity  UnitPrice (GHS)  OrderDate  \\\n",
       "0  ORD0001  Asaase Wura   Weedicide        39            81.69 2023-09-28   \n",
       "1  ORD0002          NPK  Fertilizer        43            80.17 2023-01-21   \n",
       "2  ORD0003  Asaase Wura   Weedicide        39            50.12 2023-08-03   \n",
       "3  ORD0004        maize        Seed        11            51.33 2023-04-10   \n",
       "4  ORD0005          NPK  Fertilizer        40            73.73 2023-05-30   \n",
       "\n",
       "  CustomerRegion PurchasedAgain       Day      Month  SalesAmount (GHS)  \n",
       "0          Volta             No  Thursday  September            3185.91  \n",
       "1        Western             No  Saturday    January            3447.31  \n",
       "2        Ashanti             No  Thursday     August            1954.68  \n",
       "3        Ashanti            Yes    Monday      April             564.63  \n",
       "4        Eastern            Yes   Tuesday        May            2949.20  "
      ]
     },
     "execution_count": 33,
     "metadata": {},
     "output_type": "execute_result"
    }
   ],
   "source": [
    "#sales amount per order\n",
    "data['SalesAmount (GHS)'] = data['Quantity'] * data['UnitPrice (GHS)']\n",
    "data.head()"
   ]
  },
  {
   "cell_type": "markdown",
   "id": "4bc8d803-76b7-498a-acac-b783ba54fade",
   "metadata": {},
   "source": [
    "---\n",
    "## Exploratory Data Analysis\n",
    "\n",
    "Now we'll explore patterns and trends in the data through visualizations and summary statistics. We'll analyze:\n",
    "- Sales distribution by day of week\n",
    "- Monthly sales trends\n",
    "- Product performance\n",
    "- Regional sales distribution\n",
    "- Customer repurchase behavior"
   ]
  },
  {
   "cell_type": "markdown",
   "id": "4f9fb016-8603-4b61-99ec-a83ee95e59d2",
   "metadata": {},
   "source": [
    "### Sales by Day of Week\n",
    "\n",
    "This analysis shows how sales are distributed across different days of the week. This can help identify peak sales days and inform staffing or inventory decisions."
   ]
  },
  {
   "cell_type": "code",
   "execution_count": 34,
   "id": "dffea467-64e8-469c-958c-d2a71a2558c4",
   "metadata": {},
   "outputs": [
    {
     "data": {
      "text/html": [
       "<div>\n",
       "<style scoped>\n",
       "    .dataframe tbody tr th:only-of-type {\n",
       "        vertical-align: middle;\n",
       "    }\n",
       "\n",
       "    .dataframe tbody tr th {\n",
       "        vertical-align: top;\n",
       "    }\n",
       "\n",
       "    .dataframe thead th {\n",
       "        text-align: right;\n",
       "    }\n",
       "</style>\n",
       "<table border=\"1\" class=\"dataframe\">\n",
       "  <thead>\n",
       "    <tr style=\"text-align: right;\">\n",
       "      <th></th>\n",
       "      <th>Day</th>\n",
       "      <th>SalesAmount (GHS)</th>\n",
       "    </tr>\n",
       "  </thead>\n",
       "  <tbody>\n",
       "    <tr>\n",
       "      <th>0</th>\n",
       "      <td>Monday</td>\n",
       "      <td>49504.49</td>\n",
       "    </tr>\n",
       "    <tr>\n",
       "      <th>1</th>\n",
       "      <td>Tuesday</td>\n",
       "      <td>54016.84</td>\n",
       "    </tr>\n",
       "    <tr>\n",
       "      <th>2</th>\n",
       "      <td>Wednesday</td>\n",
       "      <td>52215.85</td>\n",
       "    </tr>\n",
       "    <tr>\n",
       "      <th>3</th>\n",
       "      <td>Thursday</td>\n",
       "      <td>88012.62</td>\n",
       "    </tr>\n",
       "    <tr>\n",
       "      <th>4</th>\n",
       "      <td>Friday</td>\n",
       "      <td>51196.78</td>\n",
       "    </tr>\n",
       "    <tr>\n",
       "      <th>5</th>\n",
       "      <td>Saturday</td>\n",
       "      <td>48564.88</td>\n",
       "    </tr>\n",
       "    <tr>\n",
       "      <th>6</th>\n",
       "      <td>Sunday</td>\n",
       "      <td>67786.43</td>\n",
       "    </tr>\n",
       "  </tbody>\n",
       "</table>\n",
       "</div>"
      ],
      "text/plain": [
       "         Day  SalesAmount (GHS)\n",
       "0     Monday           49504.49\n",
       "1    Tuesday           54016.84\n",
       "2  Wednesday           52215.85\n",
       "3   Thursday           88012.62\n",
       "4     Friday           51196.78\n",
       "5   Saturday           48564.88\n",
       "6     Sunday           67786.43"
      ]
     },
     "execution_count": 34,
     "metadata": {},
     "output_type": "execute_result"
    }
   ],
   "source": [
    "# Sales made according to day of the week\n",
    "sales_by_day_of_week = data.groupby('Day', as_index=False).agg({'SalesAmount (GHS)': 'sum'})\n",
    "sales_by_day_of_week"
   ]
  },
  {
   "cell_type": "code",
   "execution_count": 35,
   "id": "99a1b290-5133-4cb8-9c1a-03df19233daf",
   "metadata": {},
   "outputs": [
    {
     "data": {
      "image/png": "[encoded data removed]",
      "text/plain": [
       "<Figure size 700x600 with 1 Axes>"
      ]
     },
     "metadata": {},
     "output_type": "display_data"
    }
   ],
   "source": [
    "plt.figure(figsize=(7, 6))\n",
    "plt.bar(sales_by_day_of_week['Day'], sales_by_day_of_week['SalesAmount (GHS)'])\n",
    "plt.xticks(rotation=10)\n",
    "plt.title('Sales by Day of the Week')\n",
    "plt.ylabel('Sales Amount (GHS)')\n",
    "plt.xlabel('Day of the Week')\n",
    "plt.savefig('assets/Sales by Day of the Week.png');"
   ]
  },
  {
   "cell_type": "markdown",
   "id": "d20f3bb0-de4d-43ee-bbe9-1d33a1dfc574",
   "metadata": {},
   "source": [
    "---\n",
    "### Monthly Sales Trends\n",
    "\n",
    "Examining sales by month helps identify seasonal patterns and annual trends. This information is crucial for inventory planning and seasonal marketing campaigns."
   ]
  },
  {
   "cell_type": "code",
   "execution_count": 36,
   "id": "e770e4ec-09d2-493a-a557-b1bae255dcc6",
   "metadata": {},
   "outputs": [
    {
     "data": {
      "text/html": [
       "<div>\n",
       "<style scoped>\n",
       "    .dataframe tbody tr th:only-of-type {\n",
       "        vertical-align: middle;\n",
       "    }\n",
       "\n",
       "    .dataframe tbody tr th {\n",
       "        vertical-align: top;\n",
       "    }\n",
       "\n",
       "    .dataframe thead th {\n",
       "        text-align: right;\n",
       "    }\n",
       "</style>\n",
       "<table border=\"1\" class=\"dataframe\">\n",
       "  <thead>\n",
       "    <tr style=\"text-align: right;\">\n",
       "      <th></th>\n",
       "      <th>Month</th>\n",
       "      <th>SalesAmount (GHS)</th>\n",
       "    </tr>\n",
       "  </thead>\n",
       "  <tbody>\n",
       "    <tr>\n",
       "      <th>0</th>\n",
       "      <td>January</td>\n",
       "      <td>25616.30</td>\n",
       "    </tr>\n",
       "    <tr>\n",
       "      <th>1</th>\n",
       "      <td>February</td>\n",
       "      <td>32248.80</td>\n",
       "    </tr>\n",
       "    <tr>\n",
       "      <th>2</th>\n",
       "      <td>March</td>\n",
       "      <td>31858.32</td>\n",
       "    </tr>\n",
       "    <tr>\n",
       "      <th>3</th>\n",
       "      <td>April</td>\n",
       "      <td>34570.11</td>\n",
       "    </tr>\n",
       "    <tr>\n",
       "      <th>4</th>\n",
       "      <td>May</td>\n",
       "      <td>44964.65</td>\n",
       "    </tr>\n",
       "    <tr>\n",
       "      <th>5</th>\n",
       "      <td>June</td>\n",
       "      <td>34333.56</td>\n",
       "    </tr>\n",
       "    <tr>\n",
       "      <th>6</th>\n",
       "      <td>July</td>\n",
       "      <td>20929.91</td>\n",
       "    </tr>\n",
       "    <tr>\n",
       "      <th>7</th>\n",
       "      <td>August</td>\n",
       "      <td>53979.84</td>\n",
       "    </tr>\n",
       "    <tr>\n",
       "      <th>8</th>\n",
       "      <td>September</td>\n",
       "      <td>27694.11</td>\n",
       "    </tr>\n",
       "    <tr>\n",
       "      <th>9</th>\n",
       "      <td>October</td>\n",
       "      <td>37073.13</td>\n",
       "    </tr>\n",
       "    <tr>\n",
       "      <th>10</th>\n",
       "      <td>November</td>\n",
       "      <td>37456.36</td>\n",
       "    </tr>\n",
       "    <tr>\n",
       "      <th>11</th>\n",
       "      <td>December</td>\n",
       "      <td>30572.80</td>\n",
       "    </tr>\n",
       "  </tbody>\n",
       "</table>\n",
       "</div>"
      ],
      "text/plain": [
       "        Month  SalesAmount (GHS)\n",
       "0     January           25616.30\n",
       "1    February           32248.80\n",
       "2       March           31858.32\n",
       "3       April           34570.11\n",
       "4         May           44964.65\n",
       "5        June           34333.56\n",
       "6        July           20929.91\n",
       "7      August           53979.84\n",
       "8   September           27694.11\n",
       "9     October           37073.13\n",
       "10   November           37456.36\n",
       "11   December           30572.80"
      ]
     },
     "execution_count": 36,
     "metadata": {},
     "output_type": "execute_result"
    }
   ],
   "source": [
    "# Monthly sales\n",
    "sales_by_month = data.groupby('Month', as_index=False).agg({'SalesAmount (GHS)': 'sum'})\n",
    "sales_by_month.sort_values(by='Month')"
   ]
  },
  {
   "cell_type": "code",
   "execution_count": 37,
   "id": "faacab1a-921c-4171-b2ee-6fc2e75d0af2",
   "metadata": {},
   "outputs": [
    {
     "data": {
      "image/png": "[encoded data removed]",
      "text/plain": [
       "<Figure size 1200x600 with 1 Axes>"
      ]
     },
     "metadata": {},
     "output_type": "display_data"
    }
   ],
   "source": [
    "# Visualize the trend\n",
    "plt.figure(figsize=(12, 6))\n",
    "plt.bar(sales_by_month['Month'], sales_by_month['SalesAmount (GHS)'])\n",
    "plt.xticks(rotation=10)\n",
    "plt.title('Sales by Month')\n",
    "plt.ylabel('Sales Amount (GHS)')\n",
    "plt.xlabel('Month')\n",
    "plt.savefig('assets/Sales by Month.png');"
   ]
  },
  {
   "cell_type": "markdown",
   "id": "b38ae2a8-b65c-4a2f-8d73-e2d32123052a",
   "metadata": {},
   "source": [
    "### Product Performance Analysis\n",
    "\n",
    "This section analyzes which products generate the most revenue and how they perform across different regions and time periods."
   ]
  },
  {
   "cell_type": "code",
   "execution_count": 38,
   "id": "a56e4196-53a5-47cd-b174-fc54bd5a715d",
   "metadata": {},
   "outputs": [
    {
     "data": {
      "text/html": [
       "<div>\n",
       "<style scoped>\n",
       "    .dataframe tbody tr th:only-of-type {\n",
       "        vertical-align: middle;\n",
       "    }\n",
       "\n",
       "    .dataframe tbody tr th {\n",
       "        vertical-align: top;\n",
       "    }\n",
       "\n",
       "    .dataframe thead th {\n",
       "        text-align: right;\n",
       "    }\n",
       "</style>\n",
       "<table border=\"1\" class=\"dataframe\">\n",
       "  <thead>\n",
       "    <tr style=\"text-align: right;\">\n",
       "      <th></th>\n",
       "      <th>Product</th>\n",
       "      <th>SalesAmount (GHS)</th>\n",
       "    </tr>\n",
       "  </thead>\n",
       "  <tbody>\n",
       "    <tr>\n",
       "      <th>0</th>\n",
       "      <td>Ammonia Sulphate</td>\n",
       "      <td>95008.79</td>\n",
       "    </tr>\n",
       "    <tr>\n",
       "      <th>1</th>\n",
       "      <td>Asaase Wura</td>\n",
       "      <td>110274.93</td>\n",
       "    </tr>\n",
       "    <tr>\n",
       "      <th>2</th>\n",
       "      <td>NPK</td>\n",
       "      <td>78115.43</td>\n",
       "    </tr>\n",
       "    <tr>\n",
       "      <th>3</th>\n",
       "      <td>maize</td>\n",
       "      <td>56159.68</td>\n",
       "    </tr>\n",
       "    <tr>\n",
       "      <th>4</th>\n",
       "      <td>soyabean</td>\n",
       "      <td>52595.67</td>\n",
       "    </tr>\n",
       "    <tr>\n",
       "      <th>5</th>\n",
       "      <td>tomato</td>\n",
       "      <td>19143.39</td>\n",
       "    </tr>\n",
       "  </tbody>\n",
       "</table>\n",
       "</div>"
      ],
      "text/plain": [
       "            Product  SalesAmount (GHS)\n",
       "0  Ammonia Sulphate           95008.79\n",
       "1       Asaase Wura          110274.93\n",
       "2               NPK           78115.43\n",
       "3             maize           56159.68\n",
       "4          soyabean           52595.67\n",
       "5            tomato           19143.39"
      ]
     },
     "execution_count": 38,
     "metadata": {},
     "output_type": "execute_result"
    }
   ],
   "source": [
    "# Sales by Product\n",
    "sales_by_product = data.groupby('Product', as_index=False).agg({'SalesAmount (GHS)': 'sum'})\n",
    "sales_by_product"
   ]
  },
  {
   "cell_type": "code",
   "execution_count": 39,
   "id": "1d07cc5e-39d3-4359-8b00-17c2730d3d34",
   "metadata": {},
   "outputs": [
    {
     "data": {
      "image/png": "[encoded data removed]",
      "text/plain": [
       "<Figure size 800x600 with 1 Axes>"
      ]
     },
     "metadata": {},
     "output_type": "display_data"
    }
   ],
   "source": [
    "# Visualize product sales\n",
    "plt.figure(figsize=(8, 6))\n",
    "plt.bar(sales_by_product['Product'], sales_by_product['SalesAmount (GHS)'])\n",
    "plt.xticks(rotation=10)\n",
    "plt.title('Sales by Product')\n",
    "plt.ylabel('Sales Amount (GHS)')\n",
    "plt.xlabel('Product')\n",
    "plt.savefig('assets/Sales by Product.png');"
   ]
  },
  {
   "cell_type": "markdown",
   "id": "705147f0-29a0-4e9b-95a5-e68524f18a60",
   "metadata": {},
   "source": [
    "### Product Sales Trends Over Time\n",
    "\n",
    "This visualization shows how different products perform across months, helping identify seasonal preferences for specific agricultural inputs."
   ]
  },
  {
   "cell_type": "code",
   "execution_count": 40,
   "id": "a72d9c46-42a1-48dd-8081-21e69745d3dd",
   "metadata": {},
   "outputs": [
    {
     "data": {
      "image/png": "[encoded data removed]",
      "text/plain": [
       "<Figure size 2000x1000 with 1 Axes>"
      ]
     },
     "metadata": {},
     "output_type": "display_data"
    }
   ],
   "source": [
    "# Visualize\n",
    "plt.figure(figsize=(20, 10))\n",
    "sns.lineplot(data=data, x='Month', y='SalesAmount (GHS)', hue='Product', errorbar=None, marker='o')\n",
    "plt.title('Monthly Product Sales Trend')\n",
    "plt.ylabel('Sales Amount (GHS)')\n",
    "plt.xlabel('Month')\n",
    "plt.savefig('assets/Monthly Product Sales Trend.png');"
   ]
  },
  {
   "cell_type": "markdown",
   "id": "d25b2a77-600a-4172-9f33-72e7738b2aa2",
   "metadata": {},
   "source": [
    "### Category Sales Trends Over Time"
   ]
  },
  {
   "cell_type": "code",
   "execution_count": 41,
   "id": "93611ea6-d6c1-4fcc-af6c-e0a6a11e2a20",
   "metadata": {},
   "outputs": [
    {
     "data": {
      "image/png": "[encoded data removed]",
      "text/plain": [
       "<Figure size 2000x1000 with 1 Axes>"
      ]
     },
     "metadata": {},
     "output_type": "display_data"
    }
   ],
   "source": [
    "plt.figure(figsize=(20, 10))\n",
    "sns.lineplot(data=data, x='Month', y='SalesAmount (GHS)', hue='Category', errorbar=None, marker='o')\n",
    "plt.title('Monthly Category Sales Trend')\n",
    "plt.ylabel('Sales Amount (GHS)')\n",
    "plt.xlabel('Month')\n",
    "plt.savefig('assets/Monthly Category Sales Trend.png');"
   ]
  },
  {
   "cell_type": "markdown",
   "id": "4c722510-3ec1-4e8c-a57e-5331881b3caf",
   "metadata": {},
   "source": [
    "## Customer Retention Analysis\n",
    "\n",
    "Understanding which products and regions have higher repurchase rates can inform customer retention strategies and product improvement initiatives."
   ]
  },
  {
   "cell_type": "code",
   "execution_count": 42,
   "id": "49bf08ab-97de-4416-a07e-83f0ec2985c7",
   "metadata": {},
   "outputs": [
    {
     "data": {
      "text/plain": [
       "PurchasedAgain\n",
       "Yes    61.0\n",
       "No     39.0\n",
       "Name: proportion, dtype: float64"
      ]
     },
     "execution_count": 42,
     "metadata": {},
     "output_type": "execute_result"
    }
   ],
   "source": [
    "# % of return customers\n",
    "round(data.value_counts('PurchasedAgain', normalize=True)*100)"
   ]
  },
  {
   "cell_type": "code",
   "execution_count": 43,
   "id": "2222d70b-7a71-43e5-b14e-162b1cca4842",
   "metadata": {},
   "outputs": [
    {
     "data": {
      "text/html": [
       "<div>\n",
       "<style scoped>\n",
       "    .dataframe tbody tr th:only-of-type {\n",
       "        vertical-align: middle;\n",
       "    }\n",
       "\n",
       "    .dataframe tbody tr th {\n",
       "        vertical-align: top;\n",
       "    }\n",
       "\n",
       "    .dataframe thead th {\n",
       "        text-align: right;\n",
       "    }\n",
       "</style>\n",
       "<table border=\"1\" class=\"dataframe\">\n",
       "  <thead>\n",
       "    <tr style=\"text-align: right;\">\n",
       "      <th></th>\n",
       "      <th>Product</th>\n",
       "      <th>PurchasedAgain</th>\n",
       "      <th>proportion</th>\n",
       "    </tr>\n",
       "  </thead>\n",
       "  <tbody>\n",
       "    <tr>\n",
       "      <th>0</th>\n",
       "      <td>Ammonia Sulphate</td>\n",
       "      <td>Yes</td>\n",
       "      <td>0.586207</td>\n",
       "    </tr>\n",
       "    <tr>\n",
       "      <th>1</th>\n",
       "      <td>Ammonia Sulphate</td>\n",
       "      <td>No</td>\n",
       "      <td>0.413793</td>\n",
       "    </tr>\n",
       "    <tr>\n",
       "      <th>2</th>\n",
       "      <td>Asaase Wura</td>\n",
       "      <td>Yes</td>\n",
       "      <td>0.532468</td>\n",
       "    </tr>\n",
       "    <tr>\n",
       "      <th>3</th>\n",
       "      <td>Asaase Wura</td>\n",
       "      <td>No</td>\n",
       "      <td>0.467532</td>\n",
       "    </tr>\n",
       "    <tr>\n",
       "      <th>4</th>\n",
       "      <td>NPK</td>\n",
       "      <td>Yes</td>\n",
       "      <td>0.627451</td>\n",
       "    </tr>\n",
       "    <tr>\n",
       "      <th>5</th>\n",
       "      <td>NPK</td>\n",
       "      <td>No</td>\n",
       "      <td>0.372549</td>\n",
       "    </tr>\n",
       "    <tr>\n",
       "      <th>6</th>\n",
       "      <td>maize</td>\n",
       "      <td>Yes</td>\n",
       "      <td>0.738095</td>\n",
       "    </tr>\n",
       "    <tr>\n",
       "      <th>7</th>\n",
       "      <td>maize</td>\n",
       "      <td>No</td>\n",
       "      <td>0.261905</td>\n",
       "    </tr>\n",
       "    <tr>\n",
       "      <th>8</th>\n",
       "      <td>soyabean</td>\n",
       "      <td>Yes</td>\n",
       "      <td>0.707317</td>\n",
       "    </tr>\n",
       "    <tr>\n",
       "      <th>9</th>\n",
       "      <td>soyabean</td>\n",
       "      <td>No</td>\n",
       "      <td>0.292683</td>\n",
       "    </tr>\n",
       "    <tr>\n",
       "      <th>10</th>\n",
       "      <td>tomato</td>\n",
       "      <td>No</td>\n",
       "      <td>0.500000</td>\n",
       "    </tr>\n",
       "    <tr>\n",
       "      <th>11</th>\n",
       "      <td>tomato</td>\n",
       "      <td>Yes</td>\n",
       "      <td>0.500000</td>\n",
       "    </tr>\n",
       "  </tbody>\n",
       "</table>\n",
       "</div>"
      ],
      "text/plain": [
       "             Product PurchasedAgain  proportion\n",
       "0   Ammonia Sulphate            Yes    0.586207\n",
       "1   Ammonia Sulphate             No    0.413793\n",
       "2        Asaase Wura            Yes    0.532468\n",
       "3        Asaase Wura             No    0.467532\n",
       "4                NPK            Yes    0.627451\n",
       "5                NPK             No    0.372549\n",
       "6              maize            Yes    0.738095\n",
       "7              maize             No    0.261905\n",
       "8           soyabean            Yes    0.707317\n",
       "9           soyabean             No    0.292683\n",
       "10            tomato             No    0.500000\n",
       "11            tomato            Yes    0.500000"
      ]
     },
     "execution_count": 43,
     "metadata": {},
     "output_type": "execute_result"
    }
   ],
   "source": [
    "# Return customer count % by Products\n",
    "Product_returned_customers = data.groupby('Product', as_index=False)['PurchasedAgain'].value_counts(normalize=True)\n",
    "Product_returned_customers"
   ]
  },
  {
   "cell_type": "markdown",
   "id": "ab5b351d-eef2-4151-8444-781bb5540a23",
   "metadata": {},
   "source": [
    "* This shows the percentage of customers that returned to the make another purchase partitioned by products."
   ]
  },
  {
   "cell_type": "code",
   "execution_count": 44,
   "id": "0d135078-48bf-440b-a693-6d0b92bb65ec",
   "metadata": {},
   "outputs": [
    {
     "data": {
      "text/html": [
       "<div>\n",
       "<style scoped>\n",
       "    .dataframe tbody tr th:only-of-type {\n",
       "        vertical-align: middle;\n",
       "    }\n",
       "\n",
       "    .dataframe tbody tr th {\n",
       "        vertical-align: top;\n",
       "    }\n",
       "\n",
       "    .dataframe thead th {\n",
       "        text-align: right;\n",
       "    }\n",
       "</style>\n",
       "<table border=\"1\" class=\"dataframe\">\n",
       "  <thead>\n",
       "    <tr style=\"text-align: right;\">\n",
       "      <th></th>\n",
       "      <th>Category</th>\n",
       "      <th>PurchasedAgain</th>\n",
       "      <th>proportion</th>\n",
       "    </tr>\n",
       "  </thead>\n",
       "  <tbody>\n",
       "    <tr>\n",
       "      <th>0</th>\n",
       "      <td>Fertilizer</td>\n",
       "      <td>Yes</td>\n",
       "      <td>0.605505</td>\n",
       "    </tr>\n",
       "    <tr>\n",
       "      <th>1</th>\n",
       "      <td>Fertilizer</td>\n",
       "      <td>No</td>\n",
       "      <td>0.394495</td>\n",
       "    </tr>\n",
       "    <tr>\n",
       "      <th>2</th>\n",
       "      <td>Seed</td>\n",
       "      <td>Yes</td>\n",
       "      <td>0.676190</td>\n",
       "    </tr>\n",
       "    <tr>\n",
       "      <th>3</th>\n",
       "      <td>Seed</td>\n",
       "      <td>No</td>\n",
       "      <td>0.323810</td>\n",
       "    </tr>\n",
       "    <tr>\n",
       "      <th>4</th>\n",
       "      <td>Weedicide</td>\n",
       "      <td>Yes</td>\n",
       "      <td>0.532468</td>\n",
       "    </tr>\n",
       "    <tr>\n",
       "      <th>5</th>\n",
       "      <td>Weedicide</td>\n",
       "      <td>No</td>\n",
       "      <td>0.467532</td>\n",
       "    </tr>\n",
       "  </tbody>\n",
       "</table>\n",
       "</div>"
      ],
      "text/plain": [
       "     Category PurchasedAgain  proportion\n",
       "0  Fertilizer            Yes    0.605505\n",
       "1  Fertilizer             No    0.394495\n",
       "2        Seed            Yes    0.676190\n",
       "3        Seed             No    0.323810\n",
       "4   Weedicide            Yes    0.532468\n",
       "5   Weedicide             No    0.467532"
      ]
     },
     "execution_count": 44,
     "metadata": {},
     "output_type": "execute_result"
    }
   ],
   "source": [
    "# Return customer count % by Category\n",
    "Category_returned_customers = data.groupby('Category', as_index=False)['PurchasedAgain'].value_counts(normalize=True)\n",
    "Category_returned_customers"
   ]
  },
  {
   "cell_type": "markdown",
   "id": "4c19596d-baec-4d6a-8ca1-c66c6cd83444",
   "metadata": {},
   "source": [
    "* This shows the percentage of customers that returned to the make another purchase partitioned by category."
   ]
  },
  {
   "cell_type": "markdown",
   "id": "2f70f8f5-f4e7-43a4-9e6f-e1d48afddebb",
   "metadata": {},
   "source": [
    "### Average Price and quantity"
   ]
  },
  {
   "cell_type": "code",
   "execution_count": 45,
   "id": "7f19274d-f8f3-4fe6-b119-8cf4d66c30fa",
   "metadata": {},
   "outputs": [
    {
     "name": "stdout",
     "output_type": "stream",
     "text": [
      "Average order quantity: 25 units\n",
      "Average unit price: GHS 57.74\n"
     ]
    }
   ],
   "source": [
    "# Average order quantitiy\n",
    "avg_order_qty = round(data['Quantity'].mean())\n",
    "\n",
    "# Average unit price\n",
    "avg_unit_price = round(data['UnitPrice (GHS)'].mean(), 2)\n",
    "\n",
    "print(f'Average order quantity: {avg_order_qty} units\\nAverage unit price: GHS {avg_unit_price}')"
   ]
  },
  {
   "cell_type": "markdown",
   "id": "14d27248-d5f8-4095-8500-35edec797a70",
   "metadata": {},
   "source": [
    "---\n",
    "## Data Preprocessing\n",
    "\n",
    "Before training our model, we need to:\n",
    "1. Encode categorical variables\n",
    "2. Split the data into features (X) and target (y)\n",
    "3. Divide into training and testing sets\n",
    "4. Scale numerical features"
   ]
  },
  {
   "cell_type": "code",
   "execution_count": 46,
   "id": "95c417e5-19ae-4f90-9f55-2c6c330061df",
   "metadata": {},
   "outputs": [
    {
     "data": {
      "text/html": [
       "<div>\n",
       "<style scoped>\n",
       "    .dataframe tbody tr th:only-of-type {\n",
       "        vertical-align: middle;\n",
       "    }\n",
       "\n",
       "    .dataframe tbody tr th {\n",
       "        vertical-align: top;\n",
       "    }\n",
       "\n",
       "    .dataframe thead th {\n",
       "        text-align: right;\n",
       "    }\n",
       "</style>\n",
       "<table border=\"1\" class=\"dataframe\">\n",
       "  <thead>\n",
       "    <tr style=\"text-align: right;\">\n",
       "      <th></th>\n",
       "      <th>OrderID</th>\n",
       "      <th>Product</th>\n",
       "      <th>Category</th>\n",
       "      <th>Quantity</th>\n",
       "      <th>UnitPrice (GHS)</th>\n",
       "      <th>OrderDate</th>\n",
       "      <th>CustomerRegion</th>\n",
       "      <th>PurchasedAgain</th>\n",
       "      <th>Day</th>\n",
       "      <th>Month</th>\n",
       "      <th>SalesAmount (GHS)</th>\n",
       "    </tr>\n",
       "  </thead>\n",
       "  <tbody>\n",
       "    <tr>\n",
       "      <th>0</th>\n",
       "      <td>ORD0001</td>\n",
       "      <td>Asaase Wura</td>\n",
       "      <td>Weedicide</td>\n",
       "      <td>39</td>\n",
       "      <td>81.69</td>\n",
       "      <td>2023-09-28</td>\n",
       "      <td>Volta</td>\n",
       "      <td>No</td>\n",
       "      <td>Thursday</td>\n",
       "      <td>September</td>\n",
       "      <td>3185.91</td>\n",
       "    </tr>\n",
       "    <tr>\n",
       "      <th>1</th>\n",
       "      <td>ORD0002</td>\n",
       "      <td>NPK</td>\n",
       "      <td>Fertilizer</td>\n",
       "      <td>43</td>\n",
       "      <td>80.17</td>\n",
       "      <td>2023-01-21</td>\n",
       "      <td>Western</td>\n",
       "      <td>No</td>\n",
       "      <td>Saturday</td>\n",
       "      <td>January</td>\n",
       "      <td>3447.31</td>\n",
       "    </tr>\n",
       "    <tr>\n",
       "      <th>2</th>\n",
       "      <td>ORD0003</td>\n",
       "      <td>Asaase Wura</td>\n",
       "      <td>Weedicide</td>\n",
       "      <td>39</td>\n",
       "      <td>50.12</td>\n",
       "      <td>2023-08-03</td>\n",
       "      <td>Ashanti</td>\n",
       "      <td>No</td>\n",
       "      <td>Thursday</td>\n",
       "      <td>August</td>\n",
       "      <td>1954.68</td>\n",
       "    </tr>\n",
       "    <tr>\n",
       "      <th>3</th>\n",
       "      <td>ORD0004</td>\n",
       "      <td>maize</td>\n",
       "      <td>Seed</td>\n",
       "      <td>11</td>\n",
       "      <td>51.33</td>\n",
       "      <td>2023-04-10</td>\n",
       "      <td>Ashanti</td>\n",
       "      <td>Yes</td>\n",
       "      <td>Monday</td>\n",
       "      <td>April</td>\n",
       "      <td>564.63</td>\n",
       "    </tr>\n",
       "    <tr>\n",
       "      <th>4</th>\n",
       "      <td>ORD0005</td>\n",
       "      <td>NPK</td>\n",
       "      <td>Fertilizer</td>\n",
       "      <td>40</td>\n",
       "      <td>73.73</td>\n",
       "      <td>2023-05-30</td>\n",
       "      <td>Eastern</td>\n",
       "      <td>Yes</td>\n",
       "      <td>Tuesday</td>\n",
       "      <td>May</td>\n",
       "      <td>2949.20</td>\n",
       "    </tr>\n",
       "  </tbody>\n",
       "</table>\n",
       "</div>"
      ],
      "text/plain": [
       "   OrderID      Product    Category  Quantity  UnitPrice (GHS)  OrderDate  \\\n",
       "0  ORD0001  Asaase Wura   Weedicide        39            81.69 2023-09-28   \n",
       "1  ORD0002          NPK  Fertilizer        43            80.17 2023-01-21   \n",
       "2  ORD0003  Asaase Wura   Weedicide        39            50.12 2023-08-03   \n",
       "3  ORD0004        maize        Seed        11            51.33 2023-04-10   \n",
       "4  ORD0005          NPK  Fertilizer        40            73.73 2023-05-30   \n",
       "\n",
       "  CustomerRegion PurchasedAgain       Day      Month  SalesAmount (GHS)  \n",
       "0          Volta             No  Thursday  September            3185.91  \n",
       "1        Western             No  Saturday    January            3447.31  \n",
       "2        Ashanti             No  Thursday     August            1954.68  \n",
       "3        Ashanti            Yes    Monday      April             564.63  \n",
       "4        Eastern            Yes   Tuesday        May            2949.20  "
      ]
     },
     "execution_count": 46,
     "metadata": {},
     "output_type": "execute_result"
    }
   ],
   "source": [
    "data.head()"
   ]
  },
  {
   "cell_type": "markdown",
   "id": "af0d6f23-fb0d-454a-be90-b02c966a642c",
   "metadata": {},
   "source": [
    "### Remove unnecesary columns for modelling"
   ]
  },
  {
   "cell_type": "code",
   "execution_count": 47,
   "id": "ba3ef1d3-a231-44d5-ba35-c1c279549c09",
   "metadata": {},
   "outputs": [
    {
     "data": {
      "text/plain": [
       "0      28\n",
       "1      21\n",
       "2       3\n",
       "3      10\n",
       "4      30\n",
       "       ..\n",
       "295    24\n",
       "296    17\n",
       "297     4\n",
       "298     1\n",
       "299    27\n",
       "Name: DayOfMonth, Length: 291, dtype: int32"
      ]
     },
     "execution_count": 47,
     "metadata": {},
     "output_type": "execute_result"
    }
   ],
   "source": [
    "data['DayOfMonth'] = data['OrderDate'].dt.day\n",
    "data['DayOfMonth']"
   ]
  },
  {
   "cell_type": "code",
   "execution_count": 48,
   "id": "da065650-4539-41ce-a68a-6e801217c67f",
   "metadata": {},
   "outputs": [
    {
     "data": {
      "text/plain": [
       "0       9\n",
       "1       1\n",
       "2       8\n",
       "3       4\n",
       "4       5\n",
       "       ..\n",
       "295     8\n",
       "296     5\n",
       "297     2\n",
       "298     3\n",
       "299    12\n",
       "Name: Month_N, Length: 291, dtype: int32"
      ]
     },
     "execution_count": 48,
     "metadata": {},
     "output_type": "execute_result"
    }
   ],
   "source": [
    "data['Month_N'] = data['OrderDate'].dt.month\n",
    "data['Month_N']"
   ]
  },
  {
   "cell_type": "code",
   "execution_count": 49,
   "id": "11f0bab9-012e-404f-9b91-935a944a54fd",
   "metadata": {},
   "outputs": [
    {
     "data": {
      "text/html": [
       "<div>\n",
       "<style scoped>\n",
       "    .dataframe tbody tr th:only-of-type {\n",
       "        vertical-align: middle;\n",
       "    }\n",
       "\n",
       "    .dataframe tbody tr th {\n",
       "        vertical-align: top;\n",
       "    }\n",
       "\n",
       "    .dataframe thead th {\n",
       "        text-align: right;\n",
       "    }\n",
       "</style>\n",
       "<table border=\"1\" class=\"dataframe\">\n",
       "  <thead>\n",
       "    <tr style=\"text-align: right;\">\n",
       "      <th></th>\n",
       "      <th>Product</th>\n",
       "      <th>Category</th>\n",
       "      <th>Quantity</th>\n",
       "      <th>UnitPrice (GHS)</th>\n",
       "      <th>CustomerRegion</th>\n",
       "      <th>PurchasedAgain</th>\n",
       "      <th>Day</th>\n",
       "      <th>Month</th>\n",
       "      <th>SalesAmount (GHS)</th>\n",
       "      <th>DayOfMonth</th>\n",
       "      <th>Month_N</th>\n",
       "    </tr>\n",
       "  </thead>\n",
       "  <tbody>\n",
       "    <tr>\n",
       "      <th>0</th>\n",
       "      <td>Asaase Wura</td>\n",
       "      <td>Weedicide</td>\n",
       "      <td>39</td>\n",
       "      <td>81.69</td>\n",
       "      <td>Volta</td>\n",
       "      <td>No</td>\n",
       "      <td>Thursday</td>\n",
       "      <td>September</td>\n",
       "      <td>3185.91</td>\n",
       "      <td>28</td>\n",
       "      <td>9</td>\n",
       "    </tr>\n",
       "    <tr>\n",
       "      <th>1</th>\n",
       "      <td>NPK</td>\n",
       "      <td>Fertilizer</td>\n",
       "      <td>43</td>\n",
       "      <td>80.17</td>\n",
       "      <td>Western</td>\n",
       "      <td>No</td>\n",
       "      <td>Saturday</td>\n",
       "      <td>January</td>\n",
       "      <td>3447.31</td>\n",
       "      <td>21</td>\n",
       "      <td>1</td>\n",
       "    </tr>\n",
       "    <tr>\n",
       "      <th>2</th>\n",
       "      <td>Asaase Wura</td>\n",
       "      <td>Weedicide</td>\n",
       "      <td>39</td>\n",
       "      <td>50.12</td>\n",
       "      <td>Ashanti</td>\n",
       "      <td>No</td>\n",
       "      <td>Thursday</td>\n",
       "      <td>August</td>\n",
       "      <td>1954.68</td>\n",
       "      <td>3</td>\n",
       "      <td>8</td>\n",
       "    </tr>\n",
       "    <tr>\n",
       "      <th>3</th>\n",
       "      <td>maize</td>\n",
       "      <td>Seed</td>\n",
       "      <td>11</td>\n",
       "      <td>51.33</td>\n",
       "      <td>Ashanti</td>\n",
       "      <td>Yes</td>\n",
       "      <td>Monday</td>\n",
       "      <td>April</td>\n",
       "      <td>564.63</td>\n",
       "      <td>10</td>\n",
       "      <td>4</td>\n",
       "    </tr>\n",
       "    <tr>\n",
       "      <th>4</th>\n",
       "      <td>NPK</td>\n",
       "      <td>Fertilizer</td>\n",
       "      <td>40</td>\n",
       "      <td>73.73</td>\n",
       "      <td>Eastern</td>\n",
       "      <td>Yes</td>\n",
       "      <td>Tuesday</td>\n",
       "      <td>May</td>\n",
       "      <td>2949.20</td>\n",
       "      <td>30</td>\n",
       "      <td>5</td>\n",
       "    </tr>\n",
       "  </tbody>\n",
       "</table>\n",
       "</div>"
      ],
      "text/plain": [
       "       Product    Category  Quantity  UnitPrice (GHS) CustomerRegion  \\\n",
       "0  Asaase Wura   Weedicide        39            81.69          Volta   \n",
       "1          NPK  Fertilizer        43            80.17        Western   \n",
       "2  Asaase Wura   Weedicide        39            50.12        Ashanti   \n",
       "3        maize        Seed        11            51.33        Ashanti   \n",
       "4          NPK  Fertilizer        40            73.73        Eastern   \n",
       "\n",
       "  PurchasedAgain       Day      Month  SalesAmount (GHS)  DayOfMonth  Month_N  \n",
       "0             No  Thursday  September            3185.91          28        9  \n",
       "1             No  Saturday    January            3447.31          21        1  \n",
       "2             No  Thursday     August            1954.68           3        8  \n",
       "3            Yes    Monday      April             564.63          10        4  \n",
       "4            Yes   Tuesday        May            2949.20          30        5  "
      ]
     },
     "execution_count": 49,
     "metadata": {},
     "output_type": "execute_result"
    }
   ],
   "source": [
    "df_lg = data.drop(columns=['OrderID', 'OrderDate'], axis=1)\n",
    "df_lg.head()"
   ]
  },
  {
   "cell_type": "code",
   "execution_count": 50,
   "id": "6b585df3-c692-4528-b00c-7a0978dd07f6",
   "metadata": {},
   "outputs": [
    {
     "data": {
      "image/png": "[encoded data removed]",
      "text/plain": [
       "<Figure size 640x480 with 2 Axes>"
      ]
     },
     "metadata": {},
     "output_type": "display_data"
    }
   ],
   "source": [
    "df_cor = data[['Quantity', 'UnitPrice (GHS)', 'DayOfMonth', 'Month_N']].corr()\n",
    "\n",
    "sns.heatmap(df_cor, cmap='coolwarm', annot=True, vmax=1, vmin=-1);"
   ]
  },
  {
   "cell_type": "code",
   "execution_count": 51,
   "id": "879b2e61-f1ad-4f18-b21c-2e5be78aee02",
   "metadata": {},
   "outputs": [
    {
     "data": {
      "text/plain": [
       "<seaborn.axisgrid.PairGrid at 0x281c4f36910>"
      ]
     },
     "execution_count": 51,
     "metadata": {},
     "output_type": "execute_result"
    },
    {
     "data": {
      "image/png": "[encoded data removed]",
      "text/plain": [
       "<Figure size 1000x1000 with 20 Axes>"
      ]
     },
     "metadata": {},
     "output_type": "display_data"
    }
   ],
   "source": [
    "sns.pairplot(df_cor)"
   ]
  },
  {
   "cell_type": "code",
   "execution_count": 52,
   "id": "abb3af30-9e15-4c41-84da-cc444b0f6584",
   "metadata": {},
   "outputs": [
    {
     "data": {
      "text/html": [
       "<div>\n",
       "<style scoped>\n",
       "    .dataframe tbody tr th:only-of-type {\n",
       "        vertical-align: middle;\n",
       "    }\n",
       "\n",
       "    .dataframe tbody tr th {\n",
       "        vertical-align: top;\n",
       "    }\n",
       "\n",
       "    .dataframe thead th {\n",
       "        text-align: right;\n",
       "    }\n",
       "</style>\n",
       "<table border=\"1\" class=\"dataframe\">\n",
       "  <thead>\n",
       "    <tr style=\"text-align: right;\">\n",
       "      <th></th>\n",
       "      <th>Product</th>\n",
       "      <th>Category</th>\n",
       "      <th>Quantity</th>\n",
       "      <th>UnitPrice (GHS)</th>\n",
       "      <th>CustomerRegion</th>\n",
       "      <th>PurchasedAgain</th>\n",
       "      <th>Day</th>\n",
       "      <th>SalesAmount (GHS)</th>\n",
       "      <th>DayOfMonth</th>\n",
       "      <th>Month_N</th>\n",
       "    </tr>\n",
       "  </thead>\n",
       "  <tbody>\n",
       "    <tr>\n",
       "      <th>0</th>\n",
       "      <td>Asaase Wura</td>\n",
       "      <td>Weedicide</td>\n",
       "      <td>39</td>\n",
       "      <td>81.69</td>\n",
       "      <td>Volta</td>\n",
       "      <td>No</td>\n",
       "      <td>Thursday</td>\n",
       "      <td>3185.91</td>\n",
       "      <td>28</td>\n",
       "      <td>9</td>\n",
       "    </tr>\n",
       "    <tr>\n",
       "      <th>1</th>\n",
       "      <td>NPK</td>\n",
       "      <td>Fertilizer</td>\n",
       "      <td>43</td>\n",
       "      <td>80.17</td>\n",
       "      <td>Western</td>\n",
       "      <td>No</td>\n",
       "      <td>Saturday</td>\n",
       "      <td>3447.31</td>\n",
       "      <td>21</td>\n",
       "      <td>1</td>\n",
       "    </tr>\n",
       "    <tr>\n",
       "      <th>2</th>\n",
       "      <td>Asaase Wura</td>\n",
       "      <td>Weedicide</td>\n",
       "      <td>39</td>\n",
       "      <td>50.12</td>\n",
       "      <td>Ashanti</td>\n",
       "      <td>No</td>\n",
       "      <td>Thursday</td>\n",
       "      <td>1954.68</td>\n",
       "      <td>3</td>\n",
       "      <td>8</td>\n",
       "    </tr>\n",
       "    <tr>\n",
       "      <th>3</th>\n",
       "      <td>maize</td>\n",
       "      <td>Seed</td>\n",
       "      <td>11</td>\n",
       "      <td>51.33</td>\n",
       "      <td>Ashanti</td>\n",
       "      <td>Yes</td>\n",
       "      <td>Monday</td>\n",
       "      <td>564.63</td>\n",
       "      <td>10</td>\n",
       "      <td>4</td>\n",
       "    </tr>\n",
       "    <tr>\n",
       "      <th>4</th>\n",
       "      <td>NPK</td>\n",
       "      <td>Fertilizer</td>\n",
       "      <td>40</td>\n",
       "      <td>73.73</td>\n",
       "      <td>Eastern</td>\n",
       "      <td>Yes</td>\n",
       "      <td>Tuesday</td>\n",
       "      <td>2949.20</td>\n",
       "      <td>30</td>\n",
       "      <td>5</td>\n",
       "    </tr>\n",
       "  </tbody>\n",
       "</table>\n",
       "</div>"
      ],
      "text/plain": [
       "       Product    Category  Quantity  UnitPrice (GHS) CustomerRegion  \\\n",
       "0  Asaase Wura   Weedicide        39            81.69          Volta   \n",
       "1          NPK  Fertilizer        43            80.17        Western   \n",
       "2  Asaase Wura   Weedicide        39            50.12        Ashanti   \n",
       "3        maize        Seed        11            51.33        Ashanti   \n",
       "4          NPK  Fertilizer        40            73.73        Eastern   \n",
       "\n",
       "  PurchasedAgain       Day  SalesAmount (GHS)  DayOfMonth  Month_N  \n",
       "0             No  Thursday            3185.91          28        9  \n",
       "1             No  Saturday            3447.31          21        1  \n",
       "2             No  Thursday            1954.68           3        8  \n",
       "3            Yes    Monday             564.63          10        4  \n",
       "4            Yes   Tuesday            2949.20          30        5  "
      ]
     },
     "execution_count": 52,
     "metadata": {},
     "output_type": "execute_result"
    }
   ],
   "source": [
    "df_lg = data.drop(columns=['OrderID', 'OrderDate', 'Month'], axis=1)\n",
    "df_lg.head()"
   ]
  },
  {
   "cell_type": "code",
   "execution_count": null,
   "id": "3880c86d-c7f4-44ac-bc33-c7954de01e64",
   "metadata": {},
   "outputs": [],
   "source": []
  },
  {
   "cell_type": "markdown",
   "id": "fbd98b6c-9815-43d5-b303-ab7e79141557",
   "metadata": {},
   "source": [
    "### Encode categorical variables"
   ]
  },
  {
   "cell_type": "code",
   "execution_count": 53,
   "id": "a7f8cc8b-6fd2-4e06-991b-db3bf252d99f",
   "metadata": {},
   "outputs": [
    {
     "data": {
      "text/html": [
       "<div>\n",
       "<style scoped>\n",
       "    .dataframe tbody tr th:only-of-type {\n",
       "        vertical-align: middle;\n",
       "    }\n",
       "\n",
       "    .dataframe tbody tr th {\n",
       "        vertical-align: top;\n",
       "    }\n",
       "\n",
       "    .dataframe thead th {\n",
       "        text-align: right;\n",
       "    }\n",
       "</style>\n",
       "<table border=\"1\" class=\"dataframe\">\n",
       "  <thead>\n",
       "    <tr style=\"text-align: right;\">\n",
       "      <th></th>\n",
       "      <th>Product</th>\n",
       "      <th>Category</th>\n",
       "      <th>Quantity</th>\n",
       "      <th>UnitPrice (GHS)</th>\n",
       "      <th>CustomerRegion</th>\n",
       "      <th>PurchasedAgain</th>\n",
       "      <th>Day</th>\n",
       "      <th>SalesAmount (GHS)</th>\n",
       "      <th>DayOfMonth</th>\n",
       "      <th>Month_N</th>\n",
       "    </tr>\n",
       "  </thead>\n",
       "  <tbody>\n",
       "    <tr>\n",
       "      <th>0</th>\n",
       "      <td>Asaase Wura</td>\n",
       "      <td>Weedicide</td>\n",
       "      <td>39</td>\n",
       "      <td>81.69</td>\n",
       "      <td>Volta</td>\n",
       "      <td>0</td>\n",
       "      <td>Thursday</td>\n",
       "      <td>3185.91</td>\n",
       "      <td>28</td>\n",
       "      <td>9</td>\n",
       "    </tr>\n",
       "    <tr>\n",
       "      <th>1</th>\n",
       "      <td>NPK</td>\n",
       "      <td>Fertilizer</td>\n",
       "      <td>43</td>\n",
       "      <td>80.17</td>\n",
       "      <td>Western</td>\n",
       "      <td>0</td>\n",
       "      <td>Saturday</td>\n",
       "      <td>3447.31</td>\n",
       "      <td>21</td>\n",
       "      <td>1</td>\n",
       "    </tr>\n",
       "    <tr>\n",
       "      <th>2</th>\n",
       "      <td>Asaase Wura</td>\n",
       "      <td>Weedicide</td>\n",
       "      <td>39</td>\n",
       "      <td>50.12</td>\n",
       "      <td>Ashanti</td>\n",
       "      <td>0</td>\n",
       "      <td>Thursday</td>\n",
       "      <td>1954.68</td>\n",
       "      <td>3</td>\n",
       "      <td>8</td>\n",
       "    </tr>\n",
       "    <tr>\n",
       "      <th>3</th>\n",
       "      <td>maize</td>\n",
       "      <td>Seed</td>\n",
       "      <td>11</td>\n",
       "      <td>51.33</td>\n",
       "      <td>Ashanti</td>\n",
       "      <td>1</td>\n",
       "      <td>Monday</td>\n",
       "      <td>564.63</td>\n",
       "      <td>10</td>\n",
       "      <td>4</td>\n",
       "    </tr>\n",
       "    <tr>\n",
       "      <th>4</th>\n",
       "      <td>NPK</td>\n",
       "      <td>Fertilizer</td>\n",
       "      <td>40</td>\n",
       "      <td>73.73</td>\n",
       "      <td>Eastern</td>\n",
       "      <td>1</td>\n",
       "      <td>Tuesday</td>\n",
       "      <td>2949.20</td>\n",
       "      <td>30</td>\n",
       "      <td>5</td>\n",
       "    </tr>\n",
       "  </tbody>\n",
       "</table>\n",
       "</div>"
      ],
      "text/plain": [
       "       Product    Category  Quantity  UnitPrice (GHS) CustomerRegion  \\\n",
       "0  Asaase Wura   Weedicide        39            81.69          Volta   \n",
       "1          NPK  Fertilizer        43            80.17        Western   \n",
       "2  Asaase Wura   Weedicide        39            50.12        Ashanti   \n",
       "3        maize        Seed        11            51.33        Ashanti   \n",
       "4          NPK  Fertilizer        40            73.73        Eastern   \n",
       "\n",
       "   PurchasedAgain       Day  SalesAmount (GHS)  DayOfMonth  Month_N  \n",
       "0               0  Thursday            3185.91          28        9  \n",
       "1               0  Saturday            3447.31          21        1  \n",
       "2               0  Thursday            1954.68           3        8  \n",
       "3               1    Monday             564.63          10        4  \n",
       "4               1   Tuesday            2949.20          30        5  "
      ]
     },
     "execution_count": 53,
     "metadata": {},
     "output_type": "execute_result"
    }
   ],
   "source": [
    "df_lg['PurchasedAgain'] = df_lg['PurchasedAgain'].map({'Yes': 1, 'No': 0})\n",
    "df_lg.head()"
   ]
  },
  {
   "cell_type": "code",
   "execution_count": 54,
   "id": "8b21b02a-19f0-4b14-b852-eb4b00ea7ff4",
   "metadata": {},
   "outputs": [
    {
     "data": {
      "text/html": [
       "<div>\n",
       "<style scoped>\n",
       "    .dataframe tbody tr th:only-of-type {\n",
       "        vertical-align: middle;\n",
       "    }\n",
       "\n",
       "    .dataframe tbody tr th {\n",
       "        vertical-align: top;\n",
       "    }\n",
       "\n",
       "    .dataframe thead th {\n",
       "        text-align: right;\n",
       "    }\n",
       "</style>\n",
       "<table border=\"1\" class=\"dataframe\">\n",
       "  <thead>\n",
       "    <tr style=\"text-align: right;\">\n",
       "      <th></th>\n",
       "      <th>Quantity</th>\n",
       "      <th>UnitPrice (GHS)</th>\n",
       "      <th>PurchasedAgain</th>\n",
       "      <th>SalesAmount (GHS)</th>\n",
       "      <th>DayOfMonth</th>\n",
       "      <th>Month_N</th>\n",
       "      <th>Product_Asaase Wura</th>\n",
       "      <th>Product_NPK</th>\n",
       "      <th>Product_maize</th>\n",
       "      <th>Product_soyabean</th>\n",
       "      <th>...</th>\n",
       "      <th>CustomerRegion_Eastern</th>\n",
       "      <th>CustomerRegion_Northern</th>\n",
       "      <th>CustomerRegion_Volta</th>\n",
       "      <th>CustomerRegion_Western</th>\n",
       "      <th>Day_Tuesday</th>\n",
       "      <th>Day_Wednesday</th>\n",
       "      <th>Day_Thursday</th>\n",
       "      <th>Day_Friday</th>\n",
       "      <th>Day_Saturday</th>\n",
       "      <th>Day_Sunday</th>\n",
       "    </tr>\n",
       "  </thead>\n",
       "  <tbody>\n",
       "    <tr>\n",
       "      <th>0</th>\n",
       "      <td>39</td>\n",
       "      <td>81.69</td>\n",
       "      <td>0</td>\n",
       "      <td>3185.91</td>\n",
       "      <td>28</td>\n",
       "      <td>9</td>\n",
       "      <td>True</td>\n",
       "      <td>False</td>\n",
       "      <td>False</td>\n",
       "      <td>False</td>\n",
       "      <td>...</td>\n",
       "      <td>False</td>\n",
       "      <td>False</td>\n",
       "      <td>True</td>\n",
       "      <td>False</td>\n",
       "      <td>False</td>\n",
       "      <td>False</td>\n",
       "      <td>True</td>\n",
       "      <td>False</td>\n",
       "      <td>False</td>\n",
       "      <td>False</td>\n",
       "    </tr>\n",
       "    <tr>\n",
       "      <th>1</th>\n",
       "      <td>43</td>\n",
       "      <td>80.17</td>\n",
       "      <td>0</td>\n",
       "      <td>3447.31</td>\n",
       "      <td>21</td>\n",
       "      <td>1</td>\n",
       "      <td>False</td>\n",
       "      <td>True</td>\n",
       "      <td>False</td>\n",
       "      <td>False</td>\n",
       "      <td>...</td>\n",
       "      <td>False</td>\n",
       "      <td>False</td>\n",
       "      <td>False</td>\n",
       "      <td>True</td>\n",
       "      <td>False</td>\n",
       "      <td>False</td>\n",
       "      <td>False</td>\n",
       "      <td>False</td>\n",
       "      <td>True</td>\n",
       "      <td>False</td>\n",
       "    </tr>\n",
       "    <tr>\n",
       "      <th>2</th>\n",
       "      <td>39</td>\n",
       "      <td>50.12</td>\n",
       "      <td>0</td>\n",
       "      <td>1954.68</td>\n",
       "      <td>3</td>\n",
       "      <td>8</td>\n",
       "      <td>True</td>\n",
       "      <td>False</td>\n",
       "      <td>False</td>\n",
       "      <td>False</td>\n",
       "      <td>...</td>\n",
       "      <td>False</td>\n",
       "      <td>False</td>\n",
       "      <td>False</td>\n",
       "      <td>False</td>\n",
       "      <td>False</td>\n",
       "      <td>False</td>\n",
       "      <td>True</td>\n",
       "      <td>False</td>\n",
       "      <td>False</td>\n",
       "      <td>False</td>\n",
       "    </tr>\n",
       "    <tr>\n",
       "      <th>3</th>\n",
       "      <td>11</td>\n",
       "      <td>51.33</td>\n",
       "      <td>1</td>\n",
       "      <td>564.63</td>\n",
       "      <td>10</td>\n",
       "      <td>4</td>\n",
       "      <td>False</td>\n",
       "      <td>False</td>\n",
       "      <td>True</td>\n",
       "      <td>False</td>\n",
       "      <td>...</td>\n",
       "      <td>False</td>\n",
       "      <td>False</td>\n",
       "      <td>False</td>\n",
       "      <td>False</td>\n",
       "      <td>False</td>\n",
       "      <td>False</td>\n",
       "      <td>False</td>\n",
       "      <td>False</td>\n",
       "      <td>False</td>\n",
       "      <td>False</td>\n",
       "    </tr>\n",
       "    <tr>\n",
       "      <th>4</th>\n",
       "      <td>40</td>\n",
       "      <td>73.73</td>\n",
       "      <td>1</td>\n",
       "      <td>2949.20</td>\n",
       "      <td>30</td>\n",
       "      <td>5</td>\n",
       "      <td>False</td>\n",
       "      <td>True</td>\n",
       "      <td>False</td>\n",
       "      <td>False</td>\n",
       "      <td>...</td>\n",
       "      <td>True</td>\n",
       "      <td>False</td>\n",
       "      <td>False</td>\n",
       "      <td>False</td>\n",
       "      <td>True</td>\n",
       "      <td>False</td>\n",
       "      <td>False</td>\n",
       "      <td>False</td>\n",
       "      <td>False</td>\n",
       "      <td>False</td>\n",
       "    </tr>\n",
       "  </tbody>\n",
       "</table>\n",
       "<p>5 rows × 23 columns</p>\n",
       "</div>"
      ],
      "text/plain": [
       "   Quantity  UnitPrice (GHS)  PurchasedAgain  SalesAmount (GHS)  DayOfMonth  \\\n",
       "0        39            81.69               0            3185.91          28   \n",
       "1        43            80.17               0            3447.31          21   \n",
       "2        39            50.12               0            1954.68           3   \n",
       "3        11            51.33               1             564.63          10   \n",
       "4        40            73.73               1            2949.20          30   \n",
       "\n",
       "   Month_N  Product_Asaase Wura  Product_NPK  Product_maize  Product_soyabean  \\\n",
       "0        9                 True        False          False             False   \n",
       "1        1                False         True          False             False   \n",
       "2        8                 True        False          False             False   \n",
       "3        4                False        False           True             False   \n",
       "4        5                False         True          False             False   \n",
       "\n",
       "   ...  CustomerRegion_Eastern  CustomerRegion_Northern  CustomerRegion_Volta  \\\n",
       "0  ...                   False                    False                  True   \n",
       "1  ...                   False                    False                 False   \n",
       "2  ...                   False                    False                 False   \n",
       "3  ...                   False                    False                 False   \n",
       "4  ...                    True                    False                 False   \n",
       "\n",
       "   CustomerRegion_Western  Day_Tuesday  Day_Wednesday  Day_Thursday  \\\n",
       "0                   False        False          False          True   \n",
       "1                    True        False          False         False   \n",
       "2                   False        False          False          True   \n",
       "3                   False        False          False         False   \n",
       "4                   False         True          False         False   \n",
       "\n",
       "   Day_Friday  Day_Saturday  Day_Sunday  \n",
       "0       False         False       False  \n",
       "1       False          True       False  \n",
       "2       False         False       False  \n",
       "3       False         False       False  \n",
       "4       False         False       False  \n",
       "\n",
       "[5 rows x 23 columns]"
      ]
     },
     "execution_count": 54,
     "metadata": {},
     "output_type": "execute_result"
    }
   ],
   "source": [
    "df_lg = pd.get_dummies(df_lg, drop_first=True)\n",
    "df_lg.head()"
   ]
  },
  {
   "cell_type": "code",
   "execution_count": 55,
   "id": "8b59d53b-45e7-4906-838a-9e72a737250b",
   "metadata": {},
   "outputs": [
    {
     "data": {
      "text/html": [
       "<div>\n",
       "<style scoped>\n",
       "    .dataframe tbody tr th:only-of-type {\n",
       "        vertical-align: middle;\n",
       "    }\n",
       "\n",
       "    .dataframe tbody tr th {\n",
       "        vertical-align: top;\n",
       "    }\n",
       "\n",
       "    .dataframe thead th {\n",
       "        text-align: right;\n",
       "    }\n",
       "</style>\n",
       "<table border=\"1\" class=\"dataframe\">\n",
       "  <thead>\n",
       "    <tr style=\"text-align: right;\">\n",
       "      <th></th>\n",
       "      <th>Quantity</th>\n",
       "      <th>UnitPrice (GHS)</th>\n",
       "      <th>PurchasedAgain</th>\n",
       "      <th>SalesAmount (GHS)</th>\n",
       "      <th>DayOfMonth</th>\n",
       "      <th>Month_N</th>\n",
       "      <th>Product_Asaase Wura</th>\n",
       "      <th>Product_NPK</th>\n",
       "      <th>Product_maize</th>\n",
       "      <th>Product_soyabean</th>\n",
       "      <th>...</th>\n",
       "      <th>CustomerRegion_Eastern</th>\n",
       "      <th>CustomerRegion_Northern</th>\n",
       "      <th>CustomerRegion_Volta</th>\n",
       "      <th>CustomerRegion_Western</th>\n",
       "      <th>Day_Tuesday</th>\n",
       "      <th>Day_Wednesday</th>\n",
       "      <th>Day_Thursday</th>\n",
       "      <th>Day_Friday</th>\n",
       "      <th>Day_Saturday</th>\n",
       "      <th>Day_Sunday</th>\n",
       "    </tr>\n",
       "  </thead>\n",
       "  <tbody>\n",
       "    <tr>\n",
       "      <th>0</th>\n",
       "      <td>39</td>\n",
       "      <td>81.69</td>\n",
       "      <td>0</td>\n",
       "      <td>3185.91</td>\n",
       "      <td>28</td>\n",
       "      <td>9</td>\n",
       "      <td>1</td>\n",
       "      <td>0</td>\n",
       "      <td>0</td>\n",
       "      <td>0</td>\n",
       "      <td>...</td>\n",
       "      <td>0</td>\n",
       "      <td>0</td>\n",
       "      <td>1</td>\n",
       "      <td>0</td>\n",
       "      <td>0</td>\n",
       "      <td>0</td>\n",
       "      <td>1</td>\n",
       "      <td>0</td>\n",
       "      <td>0</td>\n",
       "      <td>0</td>\n",
       "    </tr>\n",
       "    <tr>\n",
       "      <th>1</th>\n",
       "      <td>43</td>\n",
       "      <td>80.17</td>\n",
       "      <td>0</td>\n",
       "      <td>3447.31</td>\n",
       "      <td>21</td>\n",
       "      <td>1</td>\n",
       "      <td>0</td>\n",
       "      <td>1</td>\n",
       "      <td>0</td>\n",
       "      <td>0</td>\n",
       "      <td>...</td>\n",
       "      <td>0</td>\n",
       "      <td>0</td>\n",
       "      <td>0</td>\n",
       "      <td>1</td>\n",
       "      <td>0</td>\n",
       "      <td>0</td>\n",
       "      <td>0</td>\n",
       "      <td>0</td>\n",
       "      <td>1</td>\n",
       "      <td>0</td>\n",
       "    </tr>\n",
       "    <tr>\n",
       "      <th>2</th>\n",
       "      <td>39</td>\n",
       "      <td>50.12</td>\n",
       "      <td>0</td>\n",
       "      <td>1954.68</td>\n",
       "      <td>3</td>\n",
       "      <td>8</td>\n",
       "      <td>1</td>\n",
       "      <td>0</td>\n",
       "      <td>0</td>\n",
       "      <td>0</td>\n",
       "      <td>...</td>\n",
       "      <td>0</td>\n",
       "      <td>0</td>\n",
       "      <td>0</td>\n",
       "      <td>0</td>\n",
       "      <td>0</td>\n",
       "      <td>0</td>\n",
       "      <td>1</td>\n",
       "      <td>0</td>\n",
       "      <td>0</td>\n",
       "      <td>0</td>\n",
       "    </tr>\n",
       "    <tr>\n",
       "      <th>3</th>\n",
       "      <td>11</td>\n",
       "      <td>51.33</td>\n",
       "      <td>1</td>\n",
       "      <td>564.63</td>\n",
       "      <td>10</td>\n",
       "      <td>4</td>\n",
       "      <td>0</td>\n",
       "      <td>0</td>\n",
       "      <td>1</td>\n",
       "      <td>0</td>\n",
       "      <td>...</td>\n",
       "      <td>0</td>\n",
       "      <td>0</td>\n",
       "      <td>0</td>\n",
       "      <td>0</td>\n",
       "      <td>0</td>\n",
       "      <td>0</td>\n",
       "      <td>0</td>\n",
       "      <td>0</td>\n",
       "      <td>0</td>\n",
       "      <td>0</td>\n",
       "    </tr>\n",
       "    <tr>\n",
       "      <th>4</th>\n",
       "      <td>40</td>\n",
       "      <td>73.73</td>\n",
       "      <td>1</td>\n",
       "      <td>2949.20</td>\n",
       "      <td>30</td>\n",
       "      <td>5</td>\n",
       "      <td>0</td>\n",
       "      <td>1</td>\n",
       "      <td>0</td>\n",
       "      <td>0</td>\n",
       "      <td>...</td>\n",
       "      <td>1</td>\n",
       "      <td>0</td>\n",
       "      <td>0</td>\n",
       "      <td>0</td>\n",
       "      <td>1</td>\n",
       "      <td>0</td>\n",
       "      <td>0</td>\n",
       "      <td>0</td>\n",
       "      <td>0</td>\n",
       "      <td>0</td>\n",
       "    </tr>\n",
       "  </tbody>\n",
       "</table>\n",
       "<p>5 rows × 23 columns</p>\n",
       "</div>"
      ],
      "text/plain": [
       "   Quantity  UnitPrice (GHS)  PurchasedAgain  SalesAmount (GHS)  DayOfMonth  \\\n",
       "0        39            81.69               0            3185.91          28   \n",
       "1        43            80.17               0            3447.31          21   \n",
       "2        39            50.12               0            1954.68           3   \n",
       "3        11            51.33               1             564.63          10   \n",
       "4        40            73.73               1            2949.20          30   \n",
       "\n",
       "   Month_N  Product_Asaase Wura  Product_NPK  Product_maize  Product_soyabean  \\\n",
       "0        9                    1            0              0                 0   \n",
       "1        1                    0            1              0                 0   \n",
       "2        8                    1            0              0                 0   \n",
       "3        4                    0            0              1                 0   \n",
       "4        5                    0            1              0                 0   \n",
       "\n",
       "   ...  CustomerRegion_Eastern  CustomerRegion_Northern  CustomerRegion_Volta  \\\n",
       "0  ...                       0                        0                     1   \n",
       "1  ...                       0                        0                     0   \n",
       "2  ...                       0                        0                     0   \n",
       "3  ...                       0                        0                     0   \n",
       "4  ...                       1                        0                     0   \n",
       "\n",
       "   CustomerRegion_Western  Day_Tuesday  Day_Wednesday  Day_Thursday  \\\n",
       "0                       0            0              0             1   \n",
       "1                       1            0              0             0   \n",
       "2                       0            0              0             1   \n",
       "3                       0            0              0             0   \n",
       "4                       0            1              0             0   \n",
       "\n",
       "   Day_Friday  Day_Saturday  Day_Sunday  \n",
       "0           0             0           0  \n",
       "1           0             1           0  \n",
       "2           0             0           0  \n",
       "3           0             0           0  \n",
       "4           0             0           0  \n",
       "\n",
       "[5 rows x 23 columns]"
      ]
     },
     "execution_count": 55,
     "metadata": {},
     "output_type": "execute_result"
    }
   ],
   "source": [
    "# Convert boolean columns to integers (0, 1)\n",
    "bool_cols = df_lg.select_dtypes(include='bool').columns\n",
    "df_lg[bool_cols] = df_lg[bool_cols].astype('int')\n",
    "df_lg.head()"
   ]
  },
  {
   "cell_type": "markdown",
   "id": "13624202-d75a-4435-9287-3ea5800d66cd",
   "metadata": {},
   "source": [
    "### Split the data into features (X) and target (y)"
   ]
  },
  {
   "cell_type": "code",
   "execution_count": 56,
   "id": "0b1620d1-50b6-42ad-a4c4-def509921d57",
   "metadata": {},
   "outputs": [],
   "source": [
    "# Split data X and y\n",
    "X = df_lg.drop('PurchasedAgain', axis=1)\n",
    "y = df_lg['PurchasedAgain']"
   ]
  },
  {
   "cell_type": "markdown",
   "id": "a0d73364-2969-46a7-a4cb-ff993996705e",
   "metadata": {},
   "source": [
    "### Divide into training and testing sets"
   ]
  },
  {
   "cell_type": "code",
   "execution_count": 57,
   "id": "370374b0-ab03-4de1-91b6-af93609d777c",
   "metadata": {},
   "outputs": [],
   "source": [
    "# Split data into training and testing datasets\n",
    "X_train, X_test, y_train, y_test = train_test_split(X, y, test_size=0.2, random_state=42, stratify=y)"
   ]
  },
  {
   "cell_type": "markdown",
   "id": "29050bfc-cee7-4b7d-a8c1-4661afcc0daf",
   "metadata": {},
   "source": [
    "### Scale numerical features"
   ]
  },
  {
   "cell_type": "code",
   "execution_count": 58,
   "id": "ff52e2b7-bcb4-44cd-ac15-88f4641bb621",
   "metadata": {},
   "outputs": [],
   "source": [
    "# Standardize the data before training\n",
    "scaler = StandardScaler()\n",
    "\n",
    "# scale training data\n",
    "X_train_scaled = scaler.fit_transform(X_train)\n",
    "\n",
    "# scale testing data\n",
    "X_test_scaled = scaler.fit_transform(X_test)"
   ]
  },
  {
   "cell_type": "markdown",
   "id": "c782db18-b60f-4880-a5ba-623376e8f501",
   "metadata": {},
   "source": [
    "* Moved on with the original data since the model's performance reduced on the scaled data."
   ]
  },
  {
   "cell_type": "markdown",
   "id": "2c1009c1-f805-4530-b6dd-205edba0d976",
   "metadata": {},
   "source": [
    "---\n",
    "## Model Selection and Training\n",
    "\n",
    "For predicting customer repurchase behavior (a binary classification problem):\n",
    "\n",
    "**Logistic Regression**: A simple baseline model that provides good interpretability"
   ]
  },
  {
   "cell_type": "code",
   "execution_count": 59,
   "id": "465521f4-2f78-48ef-955c-153116d0395f",
   "metadata": {},
   "outputs": [],
   "source": [
    "# Train the model\n",
    "lg = LogisticRegression(max_iter=1000)\n",
    "model = lg.fit(X_train_scaled, y_train)"
   ]
  },
  {
   "cell_type": "code",
   "execution_count": 60,
   "id": "7cdeb49e-3b90-437b-8a34-cef6a414be40",
   "metadata": {},
   "outputs": [],
   "source": [
    "# Make predictions\n",
    "y_pred = model.predict(X_test_scaled)"
   ]
  },
  {
   "cell_type": "code",
   "execution_count": 61,
   "id": "b8e548b5-9d49-433d-b33e-02868b1f67b1",
   "metadata": {},
   "outputs": [
    {
     "name": "stdout",
     "output_type": "stream",
     "text": [
      "Precision: 0.65\n",
      "Accuracy: 0.63\n"
     ]
    }
   ],
   "source": [
    "# Evaluate model performance\n",
    "precision = round(precision_score(y_test, y_pred), 2)\n",
    "accuracy = round(accuracy_score(y_test, y_pred), 2)\n",
    "\n",
    "print(f'Precision: {precision}\\nAccuracy: {accuracy}')"
   ]
  },
  {
   "cell_type": "markdown",
   "id": "ef1f2100-dda7-4833-b30c-3eb0486bb5cc",
   "metadata": {},
   "source": [
    "* **Precision**: The model is able to predict correctly, 65% of the times that customers will make another purchase.\n",
    "* **Accuracy**: The model is able to predict correctly, 63% of the times that customers will either make another purchase or not.\n",
    "---\n",
    "\n",
    "**Insights**\n",
    "1. These scores are low and may be highly attributed to the amount of data available for training the model.\n",
    "2. Certain features could be helpful to improve the performance of the model if included (e.g. customer service)."
   ]
  },
  {
   "cell_type": "code",
   "execution_count": 62,
   "id": "f8f9f6e2-fab0-4eb6-b303-7c37accbd111",
   "metadata": {},
   "outputs": [
    {
     "name": "stdout",
     "output_type": "stream",
     "text": [
      "[1.         1.         1.         1.         0.99999979 1.\n",
      " 1.         1.         1.         1.         1.         1.\n",
      " 1.         1.         1.         1.         1.         1.\n",
      " 1.         1.         1.         1.         1.         1.\n",
      " 1.         1.         1.         1.         1.         1.\n",
      " 1.         1.         1.         1.         1.         1.\n",
      " 1.         1.         1.         1.         1.         1.\n",
      " 1.         1.         1.         1.         1.         1.\n",
      " 0.99999845 1.         1.         1.         1.         1.\n",
      " 1.         1.         1.         1.         1.        ]\n"
     ]
    }
   ],
   "source": [
    "# prediction probability\n",
    "print(model.predict_proba(X_test)[:, 1])"
   ]
  },
  {
   "cell_type": "code",
   "execution_count": 63,
   "id": "c2042aa7-f496-430c-96d8-8ccd7a219cc7",
   "metadata": {},
   "outputs": [
    {
     "data": {
      "image/png": "[encoded data removed]",
      "text/plain": [
       "<Figure size 640x480 with 2 Axes>"
      ]
     },
     "metadata": {},
     "output_type": "display_data"
    }
   ],
   "source": [
    "# Construct confusion matrix\n",
    "cm = confusion_matrix(y_test, y_pred, labels=model.classes_)\n",
    "\n",
    "# Confusion Matrix Display\n",
    "cm_disp = ConfusionMatrixDisplay(confusion_matrix=cm, display_labels=model.classes_)\n",
    "\n",
    "# display the confusion matrix\n",
    "cm_disp.plot()\n",
    "\n",
    "# save confusion matrix display\n",
    "plt.savefig('assets/cm_disp.png');"
   ]
  },
  {
   "cell_type": "markdown",
   "id": "34566ea2-6fd7-498b-96c5-a5996b159a29",
   "metadata": {},
   "source": [
    "**Interpretation:**\n",
    "- 6 true negatives: correctly predicted 0\n",
    "- 30 true positives: correctly predicted 1\n",
    "- 16 false positives: predicted 1, but it was 0\n",
    "- 7 false negatives: predicted 0, but it was 1\n",
    "---"
   ]
  },
  {
   "cell_type": "markdown",
   "id": "11ed8c10-f3ab-434a-9765-81b07ec07f30",
   "metadata": {},
   "source": [
    "2. **Random Forest**: A model that uses classification and ensemble techniques."
   ]
  },
  {
   "cell_type": "code",
   "execution_count": 64,
   "id": "60957413-de83-4cc7-ba0d-7f50eae4ab15",
   "metadata": {},
   "outputs": [],
   "source": [
    "# Import model package\n",
    "from sklearn.ensemble import RandomForestClassifier\n",
    "\n",
    "# instantiate the model\n",
    "rfc = RandomForestClassifier(n_estimators=100, random_state=42)"
   ]
  },
  {
   "cell_type": "code",
   "execution_count": 65,
   "id": "5f6e843b-c346-49cc-9f2f-f5caceda63af",
   "metadata": {},
   "outputs": [],
   "source": [
    "# train the model\n",
    "r_model = rfc.fit(X_train, y_train)"
   ]
  },
  {
   "cell_type": "code",
   "execution_count": 66,
   "id": "50baf490-ce46-4efa-929e-5da183b8acc5",
   "metadata": {},
   "outputs": [],
   "source": [
    "# make predictions\n",
    "ry_pred = r_model.predict(X_test)"
   ]
  },
  {
   "cell_type": "code",
   "execution_count": 67,
   "id": "cd1d69bb-d02a-46e2-91b1-68e69f812620",
   "metadata": {},
   "outputs": [
    {
     "name": "stdout",
     "output_type": "stream",
     "text": [
      "Precision: 0.65\n",
      "Accuracy: 0.64\n"
     ]
    }
   ],
   "source": [
    "# Evaluate model performance\n",
    "r_precision = round(precision_score(y_test, ry_pred), 2)\n",
    "r_accuracy = round(accuracy_score(y_test, ry_pred), 2)\n",
    "\n",
    "print(f'Precision: {r_precision}\\nAccuracy: {r_accuracy}')"
   ]
  },
  {
   "cell_type": "code",
   "execution_count": 68,
   "id": "75eeb65b-6b5e-4d74-90a1-9f0fc3299be8",
   "metadata": {},
   "outputs": [
    {
     "data": {
      "image/png": "[encoded data removed]",
      "text/plain": [
       "<Figure size 640x480 with 2 Axes>"
      ]
     },
     "metadata": {},
     "output_type": "display_data"
    }
   ],
   "source": [
    "# Construct confusion matrix\n",
    "rcm = confusion_matrix(y_test, ry_pred, labels=r_model.classes_)\n",
    "\n",
    "# Confusion Matrix Display\n",
    "rcm_disp = ConfusionMatrixDisplay(confusion_matrix=rcm, display_labels=r_model.classes_)\n",
    "\n",
    "# display the confusion matrix\n",
    "rcm_disp.plot()\n",
    "\n",
    "# save confusion matrix display\n",
    "plt.savefig('rcm_disp.png');"
   ]
  },
  {
   "cell_type": "markdown",
   "id": "63218385-d5e6-4253-8095-e249a5051774",
   "metadata": {},
   "source": [
    "**Interpretation:**\n",
    "- 3 true negatives: correctly predicted 0\n",
    "- 33 true positives: correctly predicted 1\n",
    "- 18 false positives: predicted 1, but it was 0\n",
    "- 6 false negatives: predicted 0, but it was 1\n",
    "---"
   ]
  },
  {
   "cell_type": "code",
   "execution_count": 69,
   "id": "2126bc34-88bb-478e-92aa-10fe91099ed8",
   "metadata": {},
   "outputs": [
    {
     "data": {
      "text/html": [
       "<div>\n",
       "<style scoped>\n",
       "    .dataframe tbody tr th:only-of-type {\n",
       "        vertical-align: middle;\n",
       "    }\n",
       "\n",
       "    .dataframe tbody tr th {\n",
       "        vertical-align: top;\n",
       "    }\n",
       "\n",
       "    .dataframe thead th {\n",
       "        text-align: right;\n",
       "    }\n",
       "</style>\n",
       "<table border=\"1\" class=\"dataframe\">\n",
       "  <thead>\n",
       "    <tr style=\"text-align: right;\">\n",
       "      <th></th>\n",
       "      <th>Model</th>\n",
       "      <th>Precision</th>\n",
       "      <th>Accuracy</th>\n",
       "    </tr>\n",
       "  </thead>\n",
       "  <tbody>\n",
       "    <tr>\n",
       "      <th>0</th>\n",
       "      <td>Linear Regression</td>\n",
       "      <td>0.65</td>\n",
       "      <td>0.63</td>\n",
       "    </tr>\n",
       "    <tr>\n",
       "      <th>1</th>\n",
       "      <td>Random Forest</td>\n",
       "      <td>0.65</td>\n",
       "      <td>0.64</td>\n",
       "    </tr>\n",
       "  </tbody>\n",
       "</table>\n",
       "</div>"
      ],
      "text/plain": [
       "               Model  Precision  Accuracy\n",
       "0  Linear Regression       0.65      0.63\n",
       "1      Random Forest       0.65      0.64"
      ]
     },
     "execution_count": 69,
     "metadata": {},
     "output_type": "execute_result"
    }
   ],
   "source": [
    "# dataframe of the performance of the two models\n",
    "performance = pd.DataFrame({'Model': ['Linear Regression', 'Random Forest'],\n",
    "                           'Precision': [precision, r_precision],\n",
    "                           'Accuracy': [accuracy, r_accuracy]})\n",
    "performance"
   ]
  },
  {
   "cell_type": "markdown",
   "id": "81b6b1cb-a067-4ee4-afa3-cf26d312d36c",
   "metadata": {},
   "source": [
    "## Key Insights and Conclusions\n",
    "\n",
    "From our analysis of Farmerline's sales data, we can draw several important conclusions:\n",
    "\n",
    "1. **Temporal Patterns**: \n",
    "   - Sales peak on `Thursdays` and `Sundays`. Stocks and related resources need to be regularly checked and made ready on the previous day.\n",
    "   - May and August are two major harvest periods where sales are highest. This may be as a result of two major rainy patterns that usually occur in March-April and June-July with `Ammonia Sulphate` being the best performing product during this period.\n",
    "\n",
    "2. **Product Performance**:\n",
    "   - `Ammonia Sulphate` seems to perform best during `April` and `August`.\n",
    "   - Sales for `soyabean` rises in `May` and `maize` in `July` and `December`.\n",
    "   - The best performing products in `Assase Wura`. Its sales are highest in `June` and `August`.\n",
    "  \n",
    "---\n",
    "\n",
    "## Next Steps and Recommendations\n",
    "\n",
    "Based on these findings, potential next steps include:\n",
    "\n",
    "1. **Further Analysis**: \n",
    "   - Deeper dive into high-performing products and regions\n",
    "   - Price elasticity analysis\n",
    "   - Customer segmentation\n",
    "\n",
    "2. **Business Recommendations**:\n",
    "   - Inventory optimization based on temporal patterns\n",
    "   - Targeted marketing strategies for regions with low repurchase rates\n",
    "   - Product bundling opportunities based on performance patterns\n",
    "\n",
    "3. **Data Collection Improvements**:\n",
    "   - Additional customer demographics\n",
    "   - More granular location data\n",
    "   - Cost information for profitability analysis"
   ]
  }
 ],
 "metadata": {
  "kernelspec": {
   "display_name": "Python 3 (ipykernel)",
   "language": "python",
   "name": "python3"
  },
  "language_info": {
   "codemirror_mode": {
    "name": "ipython",
    "version": 3
   },
   "file_extension": ".py",
   "mimetype": "text/x-python",
   "name": "python",
   "nbconvert_exporter": "python",
   "pygments_lexer": "ipython3",
   "version": "3.11.0rc2"
  }
 },
 "nbformat": 4,
 "nbformat_minor": 5
}
